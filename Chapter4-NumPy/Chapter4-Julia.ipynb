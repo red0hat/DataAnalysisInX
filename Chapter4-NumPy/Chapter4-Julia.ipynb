{
 "cells": [
  {
   "cell_type": "markdown",
   "metadata": {},
   "source": [
    "## Julia notation for setting up arrays and some notations"
   ]
  },
  {
   "cell_type": "code",
   "execution_count": 21,
   "metadata": {},
   "outputs": [
    {
     "name": "stdout",
     "output_type": "stream",
     "text": [
      "[0.626782 0.874963 0.183308; 0.168988 0.750467 0.122164]\n",
      "[6.26782 8.74963 1.83308; 1.68988 7.50467 1.22164]\n",
      "[1.25356 1.74993 0.366617; 0.337977 1.50093 0.244328]\n"
     ]
    }
   ],
   "source": [
    "random_array =  rand(2,3)\n",
    "println(random_array)\n",
    "println(random_array *10)\n",
    "println(random_array + random_array)"
   ]
  },
  {
   "cell_type": "markdown",
   "metadata": {},
   "source": [
    "## Creating arrays. "
   ]
  },
  {
   "cell_type": "code",
   "execution_count": 27,
   "metadata": {},
   "outputs": [
    {
     "data": {
      "text/plain": [
       "5-element Array{Float64,1}:\n",
       " 4.0\n",
       " 7.5\n",
       " 8.0\n",
       " 0.0\n",
       " 1.0"
      ]
     },
     "execution_count": 27,
     "metadata": {},
     "output_type": "execute_result"
    }
   ],
   "source": [
    "data1 = [4, 7.5, 8, 0, 1]\n",
    "#arr1 = array(data1)"
   ]
  },
  {
   "cell_type": "code",
   "execution_count": 28,
   "metadata": {},
   "outputs": [
    {
     "name": "stdout",
     "output_type": "stream",
     "text": [
      "[4.0, 7.5, 8.0, 0.0, 1.0]\n"
     ]
    }
   ],
   "source": [
    "println(data1)"
   ]
  },
  {
   "cell_type": "markdown",
   "metadata": {},
   "source": [
    "### 2 Dimensional Arrays"
   ]
  },
  {
   "cell_type": "code",
   "execution_count": 46,
   "metadata": {},
   "outputs": [
    {
     "data": {
      "text/plain": [
       "2×4 Array{Int64,2}:\n",
       " 1  2  3  4\n",
       " 5  6  7  8"
      ]
     },
     "execution_count": 46,
     "metadata": {},
     "output_type": "execute_result"
    }
   ],
   "source": [
    "data2 = [[1 2 3 4];[5 6 7 8]]"
   ]
  },
  {
   "cell_type": "code",
   "execution_count": 50,
   "metadata": {},
   "outputs": [
    {
     "name": "stdout",
     "output_type": "stream",
     "text": [
      "2\n",
      "(2, 4)\n",
      "Int64\n"
     ]
    }
   ],
   "source": [
    "println(ndims(data2)) # Dimensions\n",
    "println(size(data2)) # Shape of the array/matrix\n",
    "println(eltype(data2)) #data type of elements\n"
   ]
  },
  {
   "cell_type": "markdown",
   "metadata": {},
   "source": [
    "#### Calling the variable without a print statement returns the descriptive information, as well.  "
   ]
  },
  {
   "cell_type": "code",
   "execution_count": 49,
   "metadata": {},
   "outputs": [
    {
     "data": {
      "text/plain": [
       "2×4 Array{Int64,2}:\n",
       " 1  2  3  4\n",
       " 5  6  7  8"
      ]
     },
     "execution_count": 49,
     "metadata": {},
     "output_type": "execute_result"
    }
   ],
   "source": [
    "data2"
   ]
  },
  {
   "cell_type": "markdown",
   "metadata": {},
   "source": [
    "#### Zero array"
   ]
  },
  {
   "cell_type": "code",
   "execution_count": 55,
   "metadata": {},
   "outputs": [
    {
     "name": "stdout",
     "output_type": "stream",
     "text": [
      "[0.0 0.0 0.0 0.0 0.0 0.0; 0.0 0.0 0.0 0.0 0.0 0.0; 0.0 0.0 0.0 0.0 0.0 0.0]\n"
     ]
    },
    {
     "data": {
      "text/plain": [
       "3×6 Array{Float64,2}:\n",
       " 0.0  0.0  0.0  0.0  0.0  0.0\n",
       " 0.0  0.0  0.0  0.0  0.0  0.0\n",
       " 0.0  0.0  0.0  0.0  0.0  0.0"
      ]
     },
     "execution_count": 55,
     "metadata": {},
     "output_type": "execute_result"
    }
   ],
   "source": [
    "zeros_matrix = zeros(3,6)\n",
    "println(zeros_matrix)\n",
    "zeros_matrix"
   ]
  },
  {
   "cell_type": "markdown",
   "metadata": {},
   "source": [
    "#### Empty Array"
   ]
  },
  {
   "cell_type": "code",
   "execution_count": 65,
   "metadata": {},
   "outputs": [
    {
     "data": {
      "text/plain": [
       "3×2×2 Array{Float64,3}:\n",
       "[:, :, 1] =\n",
       " 2.34631e-314  2.34631e-314\n",
       " 2.34631e-314  2.34631e-314\n",
       " 2.34631e-314  2.34631e-314\n",
       "\n",
       "[:, :, 2] =\n",
       " 2.34631e-314  2.34631e-314\n",
       " 2.34631e-314  2.34631e-314\n",
       " 2.34631e-314  0.0         "
      ]
     },
     "execution_count": 65,
     "metadata": {},
     "output_type": "execute_result"
    }
   ],
   "source": [
    "empty_array = Array{Float64}(undef, (3, 2,2))\n",
    "empty_array"
   ]
  },
  {
   "cell_type": "code",
   "execution_count": 79,
   "metadata": {},
   "outputs": [
    {
     "name": "stdout",
     "output_type": "stream",
     "text": [
      "[0, 1, 2, 3, 4, 5, 6, 7, 8, 9, 10, 11, 12, 13, 14]\n"
     ]
    }
   ],
   "source": [
    "ordered_array = Array(range(0, stop =14, step = 1))\n",
    "println(ordered_array)\n",
    "\n"
   ]
  },
  {
   "cell_type": "markdown",
   "metadata": {},
   "source": [
    "## Arithmatic with arrays"
   ]
  },
  {
   "cell_type": "code",
   "execution_count": 83,
   "metadata": {},
   "outputs": [
    {
     "data": {
      "text/plain": [
       "2×3 Array{Float64,2}:\n",
       " 1.0  2.0  3.0\n",
       " 4.0  5.0  6.0"
      ]
     },
     "execution_count": 83,
     "metadata": {},
     "output_type": "execute_result"
    }
   ],
   "source": [
    "arr = [[1. 2. 3.];[4. 5. 6.]]"
   ]
  },
  {
   "cell_type": "code",
   "execution_count": 87,
   "metadata": {},
   "outputs": [
    {
     "data": {
      "text/plain": [
       "2×3 Array{Float64,2}:\n",
       "  1.0   4.0   9.0\n",
       " 16.0  25.0  36.0"
      ]
     },
     "execution_count": 87,
     "metadata": {},
     "output_type": "execute_result"
    }
   ],
   "source": [
    "arr.*arr # elementwise multiplcation operator is .*"
   ]
  },
  {
   "cell_type": "code",
   "execution_count": 90,
   "metadata": {},
   "outputs": [
    {
     "data": {
      "text/plain": [
       "2×3 Array{Float64,2}:\n",
       " 1.0  1.41421  1.73205\n",
       " 2.0  2.23607  2.44949"
      ]
     },
     "execution_count": 90,
     "metadata": {},
     "output_type": "execute_result"
    }
   ],
   "source": [
    "arr.^0.5 # elementwise exponent operator is .*"
   ]
  },
  {
   "cell_type": "code",
   "execution_count": 93,
   "metadata": {},
   "outputs": [
    {
     "data": {
      "text/plain": [
       "2×3 Array{Float64,2}:\n",
       " 2.0   4.0   6.0\n",
       " 8.0  10.0  12.0"
      ]
     },
     "execution_count": 93,
     "metadata": {},
     "output_type": "execute_result"
    }
   ],
   "source": [
    "arr+arr"
   ]
  },
  {
   "cell_type": "code",
   "execution_count": 113,
   "metadata": {},
   "outputs": [
    {
     "data": {
      "text/plain": [
       "2×3 Array{Float64,2}:\n",
       " 0.0  4.0   1.0\n",
       " 7.0  2.0  12.0"
      ]
     },
     "execution_count": 113,
     "metadata": {},
     "output_type": "execute_result"
    }
   ],
   "source": [
    "arr2 = [[0. 4. 1.]; [7. 2. 12.]]"
   ]
  },
  {
   "cell_type": "code",
   "execution_count": 110,
   "metadata": {},
   "outputs": [
    {
     "name": "stdout",
     "output_type": "stream",
     "text": [
      "Bool[false true false; true false true] \n"
     ]
    }
   ],
   "source": [
    "println(arr2 .> arr, \" \") #elementwise greater than comparison.\n"
   ]
  },
  {
   "cell_type": "code",
   "execution_count": 116,
   "metadata": {},
   "outputs": [
    {
     "name": "stdout",
     "output_type": "stream",
     "text": [
      "false   Bool[false false false; false false false]\n"
     ]
    }
   ],
   "source": [
    "println(arr2 == arr, \"   \", arr2 .== arr) #equal comparisons"
   ]
  },
  {
   "cell_type": "markdown",
   "metadata": {},
   "source": [
    "## Array Slices and indexing"
   ]
  },
  {
   "cell_type": "code",
   "execution_count": 5,
   "metadata": {},
   "outputs": [
    {
     "name": "stdout",
     "output_type": "stream",
     "text": [
      "[0, 1, 2, 3, 4, 5, 6, 7, 8, 9, 10]\n",
      "4\n",
      "[4, 5, 6, 7]\n",
      "[0, 1, 2, 3, 12, 12, 12, 12, 8, 9, 10]\n"
     ]
    }
   ],
   "source": [
    "arr = Array(range(0, stop =10, step = 1))\n",
    "println(arr)\n",
    "println(arr[5])\n",
    "println(arr[5:8])\n",
    "arr[5:8] .= 12  #elementwise assigning values to slice\n",
    "println(arr)"
   ]
  },
  {
   "cell_type": "code",
   "execution_count": 8,
   "metadata": {},
   "outputs": [
    {
     "name": "stdout",
     "output_type": "stream",
     "text": [
      "[555, 12, 12, 12]\n",
      "[0, 1, 2, 3, 12, 12, 12, 12, 8, 9, 10]\n"
     ]
    }
   ],
   "source": [
    "# If an array or slice of an array is assigned to a variable, the variable is a new copy of the array object\n",
    "# It is not a copy\n",
    "\n",
    "array_slice = arr[5:8]\n",
    "array_slice[1] = 555\n",
    "println(array_slice)\n",
    "println(arr)"
   ]
  },
  {
   "cell_type": "code",
   "execution_count": null,
   "metadata": {},
   "outputs": [],
   "source": []
  }
 ],
 "metadata": {
  "kernelspec": {
   "display_name": "Julia 1.1.0",
   "language": "julia",
   "name": "julia-1.1"
  },
  "language_info": {
   "file_extension": ".jl",
   "mimetype": "application/julia",
   "name": "julia",
   "version": "1.1.0"
  }
 },
 "nbformat": 4,
 "nbformat_minor": 2
}
