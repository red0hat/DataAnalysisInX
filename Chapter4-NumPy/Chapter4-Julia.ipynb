{
 "cells": [
  {
   "cell_type": "markdown",
   "metadata": {},
   "source": [
    "## Julia notation for setting up arrays and some notations"
   ]
  },
  {
   "cell_type": "code",
   "execution_count": 1,
   "metadata": {},
   "outputs": [
    {
     "name": "stdout",
     "output_type": "stream",
     "text": [
      "[0.448841 0.45528 0.155436; 0.785553 0.290299 0.307912]\n",
      "[4.48841 4.5528 1.55436; 7.85553 2.90299 3.07912]\n",
      "[0.897683 0.910559 0.310872; 1.57111 0.580598 0.615824]\n"
     ]
    }
   ],
   "source": [
    "random_array =  rand(2,3)\n",
    "println(random_array)\n",
    "println(random_array *10)\n",
    "println(random_array + random_array)"
   ]
  },
  {
   "cell_type": "markdown",
   "metadata": {},
   "source": [
    "## Creating arrays. "
   ]
  },
  {
   "cell_type": "code",
   "execution_count": 2,
   "metadata": {},
   "outputs": [
    {
     "data": {
      "text/plain": [
       "5-element Array{Float64,1}:\n",
       " 4.0\n",
       " 7.5\n",
       " 8.0\n",
       " 0.0\n",
       " 1.0"
      ]
     },
     "execution_count": 2,
     "metadata": {},
     "output_type": "execute_result"
    }
   ],
   "source": [
    "data1 = [4, 7.5, 8, 0, 1]\n",
    "#arr1 = array(data1)"
   ]
  },
  {
   "cell_type": "code",
   "execution_count": 3,
   "metadata": {},
   "outputs": [
    {
     "name": "stdout",
     "output_type": "stream",
     "text": [
      "[4.0, 7.5, 8.0, 0.0, 1.0]\n"
     ]
    }
   ],
   "source": [
    "println(data1)"
   ]
  },
  {
   "cell_type": "markdown",
   "metadata": {},
   "source": [
    "### 2 Dimensional Arrays"
   ]
  },
  {
   "cell_type": "code",
   "execution_count": 4,
   "metadata": {},
   "outputs": [
    {
     "data": {
      "text/plain": [
       "2×4 Array{Int64,2}:\n",
       " 1  2  3  4\n",
       " 5  6  7  8"
      ]
     },
     "execution_count": 4,
     "metadata": {},
     "output_type": "execute_result"
    }
   ],
   "source": [
    "data2 = [[1 2 3 4];[5 6 7 8]]"
   ]
  },
  {
   "cell_type": "code",
   "execution_count": 5,
   "metadata": {},
   "outputs": [
    {
     "name": "stdout",
     "output_type": "stream",
     "text": [
      "2\n",
      "(2, 4)\n",
      "Int64\n"
     ]
    }
   ],
   "source": [
    "println(ndims(data2)) # Dimensions\n",
    "println(size(data2)) # Shape of the array/matrix\n",
    "println(eltype(data2)) #data type of elements\n"
   ]
  },
  {
   "cell_type": "markdown",
   "metadata": {},
   "source": [
    "#### Calling the variable without a print statement returns the descriptive information, as well.  "
   ]
  },
  {
   "cell_type": "code",
   "execution_count": 6,
   "metadata": {},
   "outputs": [
    {
     "data": {
      "text/plain": [
       "2×4 Array{Int64,2}:\n",
       " 1  2  3  4\n",
       " 5  6  7  8"
      ]
     },
     "execution_count": 6,
     "metadata": {},
     "output_type": "execute_result"
    }
   ],
   "source": [
    "data2"
   ]
  },
  {
   "cell_type": "markdown",
   "metadata": {},
   "source": [
    "#### Zero array"
   ]
  },
  {
   "cell_type": "code",
   "execution_count": 7,
   "metadata": {},
   "outputs": [
    {
     "name": "stdout",
     "output_type": "stream",
     "text": [
      "[0.0 0.0 0.0 0.0 0.0 0.0; 0.0 0.0 0.0 0.0 0.0 0.0; 0.0 0.0 0.0 0.0 0.0 0.0]\n"
     ]
    },
    {
     "data": {
      "text/plain": [
       "3×6 Array{Float64,2}:\n",
       " 0.0  0.0  0.0  0.0  0.0  0.0\n",
       " 0.0  0.0  0.0  0.0  0.0  0.0\n",
       " 0.0  0.0  0.0  0.0  0.0  0.0"
      ]
     },
     "execution_count": 7,
     "metadata": {},
     "output_type": "execute_result"
    }
   ],
   "source": [
    "zeros_matrix = zeros(3,6)\n",
    "println(zeros_matrix)\n",
    "zeros_matrix"
   ]
  },
  {
   "cell_type": "markdown",
   "metadata": {},
   "source": [
    "#### Empty Array"
   ]
  },
  {
   "cell_type": "code",
   "execution_count": 8,
   "metadata": {},
   "outputs": [
    {
     "data": {
      "text/plain": [
       "3×2×2 Array{Float64,3}:\n",
       "[:, :, 1] =\n",
       " 2.28852e-314  2.28852e-314\n",
       " 2.28852e-314  2.28852e-314\n",
       " 2.28852e-314  2.29598e-314\n",
       "\n",
       "[:, :, 2] =\n",
       " 0.0  0.0\n",
       " 0.0  0.0\n",
       " 0.0  0.0"
      ]
     },
     "execution_count": 8,
     "metadata": {},
     "output_type": "execute_result"
    }
   ],
   "source": [
    "empty_array = Array{Float64}(undef, (3, 2,2))\n",
    "empty_array"
   ]
  },
  {
   "cell_type": "code",
   "execution_count": 9,
   "metadata": {},
   "outputs": [
    {
     "name": "stdout",
     "output_type": "stream",
     "text": [
      "[0, 1, 2, 3, 4, 5, 6, 7, 8, 9, 10, 11, 12, 13, 14]\n"
     ]
    }
   ],
   "source": [
    "ordered_array = Array(range(0, stop =14, step = 1))\n",
    "println(ordered_array)\n",
    "\n"
   ]
  },
  {
   "cell_type": "markdown",
   "metadata": {},
   "source": [
    "## Arithmatic with arrays"
   ]
  },
  {
   "cell_type": "code",
   "execution_count": 10,
   "metadata": {},
   "outputs": [
    {
     "data": {
      "text/plain": [
       "2×3 Array{Float64,2}:\n",
       " 1.0  2.0  3.0\n",
       " 4.0  5.0  6.0"
      ]
     },
     "execution_count": 10,
     "metadata": {},
     "output_type": "execute_result"
    }
   ],
   "source": [
    "arr = [[1. 2. 3.];[4. 5. 6.]]"
   ]
  },
  {
   "cell_type": "code",
   "execution_count": 11,
   "metadata": {},
   "outputs": [
    {
     "data": {
      "text/plain": [
       "2×3 Array{Float64,2}:\n",
       "  1.0   4.0   9.0\n",
       " 16.0  25.0  36.0"
      ]
     },
     "execution_count": 11,
     "metadata": {},
     "output_type": "execute_result"
    }
   ],
   "source": [
    "arr.*arr # elementwise multiplcation operator is .*"
   ]
  },
  {
   "cell_type": "code",
   "execution_count": 12,
   "metadata": {},
   "outputs": [
    {
     "data": {
      "text/plain": [
       "2×3 Array{Float64,2}:\n",
       " 1.0  1.41421  1.73205\n",
       " 2.0  2.23607  2.44949"
      ]
     },
     "execution_count": 12,
     "metadata": {},
     "output_type": "execute_result"
    }
   ],
   "source": [
    "arr.^0.5 # elementwise exponent operator is .*"
   ]
  },
  {
   "cell_type": "code",
   "execution_count": 13,
   "metadata": {},
   "outputs": [
    {
     "data": {
      "text/plain": [
       "2×3 Array{Float64,2}:\n",
       " 2.0   4.0   6.0\n",
       " 8.0  10.0  12.0"
      ]
     },
     "execution_count": 13,
     "metadata": {},
     "output_type": "execute_result"
    }
   ],
   "source": [
    "arr+arr"
   ]
  },
  {
   "cell_type": "code",
   "execution_count": 14,
   "metadata": {},
   "outputs": [
    {
     "data": {
      "text/plain": [
       "2×3 Array{Float64,2}:\n",
       " 0.0  4.0   1.0\n",
       " 7.0  2.0  12.0"
      ]
     },
     "execution_count": 14,
     "metadata": {},
     "output_type": "execute_result"
    }
   ],
   "source": [
    "arr2 = [[0. 4. 1.]; [7. 2. 12.]]"
   ]
  },
  {
   "cell_type": "code",
   "execution_count": 15,
   "metadata": {},
   "outputs": [
    {
     "name": "stdout",
     "output_type": "stream",
     "text": [
      "Bool[false true false; true false true] \n"
     ]
    }
   ],
   "source": [
    "println(arr2 .> arr, \" \") #elementwise greater than comparison.\n"
   ]
  },
  {
   "cell_type": "code",
   "execution_count": 16,
   "metadata": {},
   "outputs": [
    {
     "name": "stdout",
     "output_type": "stream",
     "text": [
      "false   Bool[false false false; false false false]\n"
     ]
    }
   ],
   "source": [
    "println(arr2 == arr, \"   \", arr2 .== arr) #equal comparisons"
   ]
  },
  {
   "cell_type": "markdown",
   "metadata": {},
   "source": [
    "## Array Slices and indexing"
   ]
  },
  {
   "cell_type": "code",
   "execution_count": 17,
   "metadata": {},
   "outputs": [
    {
     "name": "stdout",
     "output_type": "stream",
     "text": [
      "[0, 1, 2, 3, 4, 5, 6, 7, 8, 9, 10]\n",
      "4\n",
      "[4, 5, 6, 7]\n",
      "[0, 1, 2, 3, 12, 12, 12, 12, 8, 9, 10]\n"
     ]
    }
   ],
   "source": [
    "arr = Array(range(0, stop =10, step = 1))\n",
    "println(arr)\n",
    "println(arr[5])\n",
    "println(arr[5:8])\n",
    "arr[5:8] .= 12  #elementwise assigning values to slice\n",
    "println(arr)"
   ]
  },
  {
   "cell_type": "code",
   "execution_count": 18,
   "metadata": {},
   "outputs": [
    {
     "name": "stdout",
     "output_type": "stream",
     "text": [
      "[555, 12, 12, 12]\n",
      "[0, 1, 2, 3, 12, 12, 12, 12, 8, 9, 10]\n"
     ]
    }
   ],
   "source": [
    "# If an array or slice of an array is assigned to a variable, the variable is a new copy of the array object\n",
    "# It is not a copy\n",
    "\n",
    "array_slice = arr[5:8]\n",
    "array_slice[1] = 555\n",
    "println(array_slice)\n",
    "println(arr)"
   ]
  },
  {
   "cell_type": "markdown",
   "metadata": {},
   "source": [
    "### Boolean Indexing"
   ]
  },
  {
   "cell_type": "code",
   "execution_count": 50,
   "metadata": {},
   "outputs": [
    {
     "name": "stdout",
     "output_type": "stream",
     "text": [
      "[\"Bob\", \"Joe\", \"Will\", \"Bob\", \"Will\", \"Joe\", \"Joe\"]"
     ]
    },
    {
     "data": {
      "text/plain": [
       "7×4 Array{Float64,2}:\n",
       " 1.78091   0.797176  0.556539  1.57085 \n",
       " 0.868632  0.595073  0.557916  0.158866\n",
       " 1.71093   0.877603  0.237144  1.43598 \n",
       " 1.62893   1.71348   1.78007   0.723781\n",
       " 1.64802   0.35745   1.01054   1.32469 \n",
       " 1.75653   1.02066   1.74336   1.25797 \n",
       " 1.52091   1.71977   1.86851   0.809427"
      ]
     },
     "execution_count": 50,
     "metadata": {},
     "output_type": "execute_result"
    }
   ],
   "source": [
    "NamesData = [\"Bob\", \"Joe\", \"Will\", \"Bob\", \"Will\", \"Joe\", \"Joe\"]\n",
    "print(NamesData)\n",
    "random_array =  rand(7,4)*2\n"
   ]
  },
  {
   "cell_type": "code",
   "execution_count": 51,
   "metadata": {},
   "outputs": [
    {
     "data": {
      "text/plain": [
       "7-element BitArray{1}:\n",
       " false\n",
       "  true\n",
       " false\n",
       " false\n",
       " false\n",
       "  true\n",
       "  true"
      ]
     },
     "execution_count": 51,
     "metadata": {},
     "output_type": "execute_result"
    }
   ],
   "source": [
    "NamesFilter = NamesData .== \"Joe\"     #Elementwise array comparison\n",
    "NamesFilter"
   ]
  },
  {
   "cell_type": "code",
   "execution_count": 52,
   "metadata": {},
   "outputs": [
    {
     "data": {
      "text/plain": [
       "3×4 Array{Float64,2}:\n",
       " 0.868632  0.595073  0.557916  0.158866\n",
       " 1.75653   1.02066   1.74336   1.25797 \n",
       " 1.52091   1.71977   1.86851   0.809427"
      ]
     },
     "execution_count": 52,
     "metadata": {},
     "output_type": "execute_result"
    }
   ],
   "source": [
    "random_array[NamesFilter,:]"
   ]
  },
  {
   "cell_type": "code",
   "execution_count": 53,
   "metadata": {},
   "outputs": [
    {
     "data": {
      "text/plain": [
       "3×2 Array{Float64,2}:\n",
       " 0.595073  0.557916\n",
       " 1.02066   1.74336 \n",
       " 1.71977   1.86851 "
      ]
     },
     "execution_count": 53,
     "metadata": {},
     "output_type": "execute_result"
    }
   ],
   "source": [
    "random_array[NamesFilter,2:3]"
   ]
  },
  {
   "cell_type": "code",
   "execution_count": 54,
   "metadata": {},
   "outputs": [
    {
     "data": {
      "text/plain": [
       "4×4 Array{Float64,2}:\n",
       " 1.78091  0.797176  0.556539  1.57085 \n",
       " 1.71093  0.877603  0.237144  1.43598 \n",
       " 1.62893  1.71348   1.78007   0.723781\n",
       " 1.64802  0.35745   1.01054   1.32469 "
      ]
     },
     "execution_count": 54,
     "metadata": {},
     "output_type": "execute_result"
    }
   ],
   "source": [
    "random_array[.!NamesFilter,:]   #Negate the Boolean values."
   ]
  },
  {
   "cell_type": "code",
   "execution_count": 55,
   "metadata": {},
   "outputs": [
    {
     "data": {
      "text/plain": [
       "7-element BitArray{1}:\n",
       "  true\n",
       " false\n",
       "  true\n",
       "  true\n",
       "  true\n",
       " false\n",
       " false"
      ]
     },
     "execution_count": 55,
     "metadata": {},
     "output_type": "execute_result"
    }
   ],
   "source": [
    "NamesFilter = (NamesData .== \"Will\") .| (NamesData .== \"Bob\")   #Elementwise array comparison, must use parentheses\n",
    "NamesFilter"
   ]
  },
  {
   "cell_type": "code",
   "execution_count": 56,
   "metadata": {},
   "outputs": [
    {
     "data": {
      "text/plain": [
       "7×4 BitArray{2}:\n",
       "  true  false  false   true\n",
       " false  false  false  false\n",
       "  true  false  false   true\n",
       "  true   true   true  false\n",
       "  true  false   true   true\n",
       "  true   true   true   true\n",
       "  true   true   true  false"
      ]
     },
     "execution_count": 56,
     "metadata": {},
     "output_type": "execute_result"
    }
   ],
   "source": [
    "MatrixFilter = random_array.>1"
   ]
  },
  {
   "cell_type": "code",
   "execution_count": 73,
   "metadata": {},
   "outputs": [
    {
     "data": {
      "text/plain": [
       "7×4 Array{Float64,2}:\n",
       " 1.0       1.0       1.0       1.0     \n",
       " 0.868632  0.595073  0.557916  0.158866\n",
       " 1.0       1.0       1.0       1.0     \n",
       " 1.0       1.0       1.0       1.0     \n",
       " 1.0       1.0       1.0       1.0     \n",
       " 1.0       1.0       1.0       1.0     \n",
       " 1.0       1.0       1.0       0.809427"
      ]
     },
     "execution_count": 73,
     "metadata": {},
     "output_type": "execute_result"
    }
   ],
   "source": [
    "random_array[random_array .> 1] .= 1   #elemetwise, replace values on the original object.\n",
    "random_array \n"
   ]
  },
  {
   "cell_type": "code",
   "execution_count": 74,
   "metadata": {},
   "outputs": [
    {
     "data": {
      "text/plain": [
       "7×4 Array{Float64,2}:\n",
       " 7.0       7.0       7.0       7.0     \n",
       " 0.868632  0.595073  0.557916  0.158866\n",
       " 7.0       7.0       7.0       7.0     \n",
       " 7.0       7.0       7.0       7.0     \n",
       " 7.0       7.0       7.0       7.0     \n",
       " 1.0       1.0       1.0       1.0     \n",
       " 1.0       1.0       1.0       0.809427"
      ]
     },
     "execution_count": 74,
     "metadata": {},
     "output_type": "execute_result"
    }
   ],
   "source": [
    "random_array[NamesFilter,:] .=7\n",
    "random_array\n"
   ]
  },
  {
   "cell_type": "markdown",
   "metadata": {},
   "source": [
    "### Fancy Indexing"
   ]
  },
  {
   "cell_type": "code",
   "execution_count": 76,
   "metadata": {},
   "outputs": [
    {
     "data": {
      "text/plain": [
       "8×4 Array{Float64,2}:\n",
       " 0.0  0.0  0.0  0.0\n",
       " 0.0  0.0  0.0  0.0\n",
       " 0.0  0.0  0.0  0.0\n",
       " 0.0  0.0  0.0  0.0\n",
       " 0.0  0.0  0.0  0.0\n",
       " 0.0  0.0  0.0  0.0\n",
       " 0.0  0.0  0.0  0.0\n",
       " 0.0  0.0  0.0  0.0"
      ]
     },
     "execution_count": 76,
     "metadata": {},
     "output_type": "execute_result"
    }
   ],
   "source": [
    "FancyArray = Array{Float64}(undef, (8, 4))\n",
    "FancyArray"
   ]
  },
  {
   "cell_type": "code",
   "execution_count": 87,
   "metadata": {},
   "outputs": [
    {
     "data": {
      "text/plain": [
       "8×4 Array{Float64,2}:\n",
       " 1.0  1.0  1.0  1.0\n",
       " 2.0  2.0  2.0  2.0\n",
       " 3.0  3.0  3.0  3.0\n",
       " 4.0  4.0  4.0  4.0\n",
       " 5.0  5.0  5.0  5.0\n",
       " 6.0  6.0  6.0  6.0\n",
       " 7.0  7.0  7.0  7.0\n",
       " 8.0  8.0  8.0  8.0"
      ]
     },
     "execution_count": 87,
     "metadata": {},
     "output_type": "execute_result"
    }
   ],
   "source": [
    "for i in 1:8\n",
    "    FancyArray[i,:] .= i\n",
    "end\n",
    "FancyArray"
   ]
  },
  {
   "cell_type": "code",
   "execution_count": 94,
   "metadata": {},
   "outputs": [
    {
     "data": {
      "text/plain": [
       "4×4 Array{Float64,2}:\n",
       " 4.0  4.0  4.0  4.0\n",
       " 3.0  3.0  3.0  3.0\n",
       " 1.0  1.0  1.0  1.0\n",
       " 6.0  6.0  6.0  6.0"
      ]
     },
     "execution_count": 94,
     "metadata": {},
     "output_type": "execute_result"
    }
   ],
   "source": [
    "FancyArray[[4, 3, 1, 6],:]"
   ]
  },
  {
   "cell_type": "code",
   "execution_count": 119,
   "metadata": {},
   "outputs": [
    {
     "data": {
      "text/plain": [
       "3×4 Array{Float64,2}:\n",
       " 8.0  8.0  8.0  8.0\n",
       " 5.0  5.0  5.0  5.0\n",
       " 2.0  2.0  2.0  2.0"
      ]
     },
     "execution_count": 119,
     "metadata": {},
     "output_type": "execute_result"
    }
   ],
   "source": [
    "FancyArray[end:-3:2,:]   # Indexing from the end with negative numbers doesn't work. Instead, use reverse indexing. "
   ]
  },
  {
   "cell_type": "code",
   "execution_count": 85,
   "metadata": {},
   "outputs": [
    {
     "data": {
      "text/plain": [
       "2×2 Array{Float64,2}:\n",
       " 1.0  1.0\n",
       " 3.0  3.0"
      ]
     },
     "execution_count": 85,
     "metadata": {},
     "output_type": "execute_result"
    }
   ],
   "source": [
    "FancyArray[[1,3],[2,3]]"
   ]
  },
  {
   "cell_type": "code",
   "execution_count": 86,
   "metadata": {},
   "outputs": [
    {
     "data": {
      "text/plain": [
       "2×2 Array{Float64,2}:\n",
       " 2.0  2.0\n",
       " 1.0  1.0"
      ]
     },
     "execution_count": 86,
     "metadata": {},
     "output_type": "execute_result"
    }
   ],
   "source": [
    "FancyArray[[2,1],[2,3]]"
   ]
  },
  {
   "cell_type": "code",
   "execution_count": 121,
   "metadata": {},
   "outputs": [
    {
     "data": {
      "text/plain": [
       "4×8 Array{Float64,2}:\n",
       " 1.0  5.0  1.0  5.0  1.0  5.0  1.0  5.0\n",
       " 2.0  6.0  2.0  6.0  2.0  6.0  2.0  6.0\n",
       " 3.0  7.0  3.0  7.0  3.0  7.0  3.0  7.0\n",
       " 4.0  8.0  4.0  8.0  4.0  8.0  4.0  8.0"
      ]
     },
     "execution_count": 121,
     "metadata": {},
     "output_type": "execute_result"
    }
   ],
   "source": [
    "reshape(FancyArray,4,8)"
   ]
  },
  {
   "cell_type": "code",
   "execution_count": 122,
   "metadata": {},
   "outputs": [
    {
     "data": {
      "text/plain": [
       "8×4 Array{Float64,2}:\n",
       " 1.0  1.0  1.0  1.0\n",
       " 2.0  2.0  2.0  2.0\n",
       " 3.0  3.0  3.0  3.0\n",
       " 4.0  4.0  4.0  4.0\n",
       " 5.0  5.0  5.0  5.0\n",
       " 6.0  6.0  6.0  6.0\n",
       " 7.0  7.0  7.0  7.0\n",
       " 8.0  8.0  8.0  8.0"
      ]
     },
     "execution_count": 122,
     "metadata": {},
     "output_type": "execute_result"
    }
   ],
   "source": [
    "FancyArray"
   ]
  },
  {
   "cell_type": "markdown",
   "metadata": {},
   "source": [
    "### Transposing Arrays and Swapping Axes"
   ]
  },
  {
   "cell_type": "code",
   "execution_count": 140,
   "metadata": {},
   "outputs": [],
   "source": [
    "using LinearAlgebra"
   ]
  },
  {
   "cell_type": "code",
   "execution_count": 151,
   "metadata": {},
   "outputs": [
    {
     "data": {
      "text/plain": [
       "4×8 Transpose{Float64,Array{Float64,2}}:\n",
       " 1.0  2.0  3.0  4.0  5.0  6.0  7.0  8.0\n",
       " 1.0  2.0  3.0  4.0  5.0  6.0  7.0  8.0\n",
       " 1.0  2.0  3.0  4.0  5.0  6.0  7.0  8.0\n",
       " 1.0  2.0  3.0  4.0  5.0  6.0  7.0  8.0"
      ]
     },
     "execution_count": 151,
     "metadata": {},
     "output_type": "execute_result"
    }
   ],
   "source": [
    "TArray = transpose(FancyArray)"
   ]
  },
  {
   "cell_type": "code",
   "execution_count": 158,
   "metadata": {},
   "outputs": [
    {
     "data": {
      "text/plain": [
       "4×4 Array{Float64,2}:\n",
       " 204.0  204.0  204.0  204.0\n",
       " 204.0  204.0  204.0  204.0\n",
       " 204.0  204.0  204.0  204.0\n",
       " 204.0  204.0  204.0  204.0"
      ]
     },
     "execution_count": 158,
     "metadata": {},
     "output_type": "execute_result"
    }
   ],
   "source": [
    "*(TArray, FancyArray)                  #Matrix inner product"
   ]
  },
  {
   "cell_type": "code",
   "execution_count": 159,
   "metadata": {},
   "outputs": [
    {
     "data": {
      "text/plain": [
       "680.0"
      ]
     },
     "execution_count": 159,
     "metadata": {},
     "output_type": "execute_result"
    }
   ],
   "source": [
    "dot(TArray, FancyArray)               #Scalar inner product\n"
   ]
  },
  {
   "cell_type": "code",
   "execution_count": 195,
   "metadata": {},
   "outputs": [
    {
     "name": "stdout",
     "output_type": "stream",
     "text": [
      "[1 3 5 7; 2 4 6 8]\n",
      "\n",
      "[9 11 13 15; 10 12 14 16]\n",
      "[1 3 5 7; 9 11 13 15]\n",
      "\n",
      "[2 4 6 8; 10 12 14 16]\n"
     ]
    }
   ],
   "source": [
    "ThreeAxesArray = reshape(collect(1:16),2,4,2)            #That doesn't work as expected.\n",
    "println(ThreeAxesArray)\n",
    "\n",
    "println(permutedims(ThreeAxesArray,[3,2,1]))"
   ]
  },
  {
   "cell_type": "code",
   "execution_count": 176,
   "metadata": {},
   "outputs": [
    {
     "name": "stdout",
     "output_type": "stream",
     "text": [
      "1:16\n"
     ]
    }
   ],
   "source": [
    "println(1:16)"
   ]
  },
  {
   "cell_type": "code",
   "execution_count": 227,
   "metadata": {},
   "outputs": [
    {
     "data": {
      "text/plain": [
       "2×4×2 Array{Int64,3}:\n",
       "[:, :, 1] =\n",
       " 1  2  3  4\n",
       " 5  6  7  8\n",
       "\n",
       "[:, :, 2] =\n",
       "  9  10  11  12\n",
       " 13  14  15  16"
      ]
     },
     "execution_count": 227,
     "metadata": {},
     "output_type": "execute_result"
    }
   ],
   "source": [
    "array_transposing = transpose(reshape(collect(1:16),16,1))    #This seems more complex than it should\n",
    "array_transposing2 = reshape(array_transposing,4,2,2)\n",
    "array_transposing3 = permutedims(array_transposing2,[2,1,3])"
   ]
  },
  {
   "cell_type": "code",
   "execution_count": 232,
   "metadata": {},
   "outputs": [
    {
     "data": {
      "text/plain": [
       "4×2×2 Array{Int64,3}:\n",
       "[:, :, 1] =\n",
       " 1  5\n",
       " 2  6\n",
       " 3  7\n",
       " 4  8\n",
       "\n",
       "[:, :, 2] =\n",
       "  9  13\n",
       " 10  14\n",
       " 11  15\n",
       " 12  16"
      ]
     },
     "execution_count": 232,
     "metadata": {},
     "output_type": "execute_result"
    }
   ],
   "source": [
    "permutedims(array_transposing3,[2,1,3])                   #Like Swapaxes in Python, but more explict."
   ]
  },
  {
   "cell_type": "markdown",
   "metadata": {},
   "source": [
    "## Universal Functions: Fast Element-Wise Array Functions"
   ]
  },
  {
   "cell_type": "code",
   "execution_count": 253,
   "metadata": {},
   "outputs": [
    {
     "name": "stdout",
     "output_type": "stream",
     "text": [
      "[1.0, 1.41421, 1.73205, 2.0, 2.23607, 2.44949, 2.64575, 2.82843, 3.0]\n",
      "[2.71828, 7.38906, 20.0855, 54.5982, 148.413, 403.429, 1096.63, 2980.96, 8103.08]\n"
     ]
    }
   ],
   "source": [
    "arr = collect(1:9)                \n",
    "println(sqrt.(arr))                        #to apply the fucntion elementwise, use .() not just ()\n",
    "println(exp.(arr))"
   ]
  },
  {
   "cell_type": "code",
   "execution_count": 264,
   "metadata": {},
   "outputs": [
    {
     "name": "stdout",
     "output_type": "stream",
     "text": [
      "[0.789535, 0.59108, 0.709367, 0.579059, 0.287603, 0.613423, 0.420949, 0.249038]\n",
      "[0.987309, 0.220914, 0.987049, 0.948659, 0.796013, 0.323365, 0.310519, 0.119909]\n",
      "0.7895345124820878\n",
      "[0.987309, 0.220914, 0.987049, 0.948659, 0.796013, 0.323365, 0.310519, 0.119909]\n"
     ]
    }
   ],
   "source": [
    "x = rand(8)\n",
    "y = rand(8)\n",
    "println(x)\n",
    "println(y)\n",
    "println(maximum(x))                     #maximum element of the array\n",
    "println(max(x,y))                       #Compare the arrays, pairwise."
   ]
  },
  {
   "cell_type": "code",
   "execution_count": 298,
   "metadata": {},
   "outputs": [
    {
     "ename": "MethodError",
     "evalue": "MethodError: no method matching one(::Array{Float64,1})\nClosest candidates are:\n  one(!Matched::Missing) at missing.jl:83\n  one(!Matched::BitArray{2}) at bitarray.jl:400\n  one(!Matched::Type{T<:Number}) where T<:Number at number.jl:297\n  ...",
     "output_type": "error",
     "traceback": [
      "MethodError: no method matching one(::Array{Float64,1})\nClosest candidates are:\n  one(!Matched::Missing) at missing.jl:83\n  one(!Matched::BitArray{2}) at bitarray.jl:400\n  one(!Matched::Type{T<:Number}) where T<:Number at number.jl:297\n  ...",
      "",
      "Stacktrace:",
      " [1] modf(::Array{Float64,1}) at ./math.jl:765",
      " [2] top-level scope at In[298]:1"
     ]
    }
   ],
   "source": [
    "remainder, whole = modf.(2x)\n",
    "println(remainder)\n",
    "println(whole)"
   ]
  },
  {
   "cell_type": "code",
   "execution_count": 301,
   "metadata": {},
   "outputs": [
    {
     "name": "stdout",
     "output_type": "stream",
     "text": [
      "Tuple{Float64,Float64}[(0.579069, 1.0), (0.182161, 1.0), (0.418734, 1.0), (0.158119, 1.0), (0.575206, 0.0), (0.226845, 1.0), (0.841898, 0.0), (0.498076, 0.0)]\n"
     ]
    }
   ],
   "source": [
    "println(modf.(2x))"
   ]
  },
  {
   "cell_type": "code",
   "execution_count": 340,
   "metadata": {},
   "outputs": [
    {
     "name": "stdout",
     "output_type": "stream",
     "text": [
      "[0.579069, 0.182161, 0.418734, 0.158119, 0.575206, 0.226845, 0.841898, 0.498076]\n",
      "[1.0, 1.0, 1.0, 1.0, 0.0, 1.0, 0.0, 0.0]\n"
     ]
    }
   ],
   "source": [
    "remainder = [y[1] for y in modf.(2x)]                  \n",
    "whole = [y[2] for y in modf.(2x)]\n",
    "println(remainder)\n",
    "println(whole)"
   ]
  },
  {
   "cell_type": "code",
   "execution_count": 343,
   "metadata": {},
   "outputs": [
    {
     "name": "stdout",
     "output_type": "stream",
     "text": [
      "(0.5790690249641757, 1.0)\n",
      "(0.18216096628219125, 1.0)\n"
     ]
    }
   ],
   "source": [
    "remainder, whole = modf.(2x)                  #modf returns an array of tuples, python returns 2 arrays\n",
    "println(remainder)\n",
    "println(whole)"
   ]
  },
  {
   "cell_type": "code",
   "execution_count": null,
   "metadata": {},
   "outputs": [],
   "source": []
  }
 ],
 "metadata": {
  "kernelspec": {
   "display_name": "Julia 1.1.0",
   "language": "julia",
   "name": "julia-1.1"
  },
  "language_info": {
   "file_extension": ".jl",
   "mimetype": "application/julia",
   "name": "julia",
   "version": "1.1.0"
  }
 },
 "nbformat": 4,
 "nbformat_minor": 2
}
