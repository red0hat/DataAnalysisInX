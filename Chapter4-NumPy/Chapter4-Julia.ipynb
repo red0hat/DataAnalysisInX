{
 "cells": [
  {
   "cell_type": "markdown",
   "metadata": {},
   "source": [
    "## Julia notation for setting up arrays and some notations"
   ]
  },
  {
   "cell_type": "code",
   "execution_count": 1,
   "metadata": {},
   "outputs": [
    {
     "name": "stdout",
     "output_type": "stream",
     "text": [
      "[0.000566413 0.575246 0.159846; 0.247647 0.101991 0.376844]\n",
      "[0.00566413 5.75246 1.59846; 2.47647 1.01991 3.76844]\n",
      "[0.00113283 1.15049 0.319691; 0.495294 0.203983 0.753689]\n"
     ]
    }
   ],
   "source": [
    "random_array =  rand(2,3)\n",
    "println(random_array)\n",
    "println(random_array *10)\n",
    "println(random_array + random_array)"
   ]
  },
  {
   "cell_type": "markdown",
   "metadata": {},
   "source": [
    "## Creating arrays. "
   ]
  },
  {
   "cell_type": "code",
   "execution_count": 2,
   "metadata": {},
   "outputs": [
    {
     "data": {
      "text/plain": [
       "1×5 Array{Float64,2}:\n",
       " 4.0  7.5  8.0  0.0  1.0"
      ]
     },
     "execution_count": 2,
     "metadata": {},
     "output_type": "execute_result"
    }
   ],
   "source": [
    "data1 = [4, 7.5, 8, 0, 1]\n",
    "data1a = [ 4 7.5 8 0 1]\n",
    "#arr1 = array(data1)"
   ]
  },
  {
   "cell_type": "code",
   "execution_count": 3,
   "metadata": {},
   "outputs": [
    {
     "data": {
      "text/plain": [
       "5-element Array{Float64,1}:\n",
       " 4.0\n",
       " 7.5\n",
       " 8.0\n",
       " 0.0\n",
       " 1.0"
      ]
     },
     "execution_count": 3,
     "metadata": {},
     "output_type": "execute_result"
    }
   ],
   "source": [
    "data1"
   ]
  },
  {
   "cell_type": "code",
   "execution_count": 4,
   "metadata": {},
   "outputs": [
    {
     "data": {
      "text/plain": [
       "1×5 Array{Float64,2}:\n",
       " 4.0  7.5  8.0  0.0  1.0"
      ]
     },
     "execution_count": 4,
     "metadata": {},
     "output_type": "execute_result"
    }
   ],
   "source": [
    "data1a"
   ]
  },
  {
   "cell_type": "code",
   "execution_count": 5,
   "metadata": {},
   "outputs": [
    {
     "name": "stdout",
     "output_type": "stream",
     "text": [
      "[4.0, 7.5, 8.0, 0.0, 1.0]\n",
      "[4.0 7.5 8.0 0.0 1.0]\n"
     ]
    }
   ],
   "source": [
    "println(data1)\n",
    "println(data1a)"
   ]
  },
  {
   "cell_type": "markdown",
   "metadata": {},
   "source": [
    "### 2 Dimensional Arrays"
   ]
  },
  {
   "cell_type": "code",
   "execution_count": 6,
   "metadata": {},
   "outputs": [
    {
     "data": {
      "text/plain": [
       "2×4 Array{Int64,2}:\n",
       " 1  2  3  4\n",
       " 5  6  7  8"
      ]
     },
     "execution_count": 6,
     "metadata": {},
     "output_type": "execute_result"
    }
   ],
   "source": [
    "data2 = [[1 2 3 4];[5 6 7 8]]"
   ]
  },
  {
   "cell_type": "code",
   "execution_count": 7,
   "metadata": {},
   "outputs": [
    {
     "name": "stdout",
     "output_type": "stream",
     "text": [
      "2\n",
      "(2, 4)\n",
      "8\n",
      "Int64\n"
     ]
    }
   ],
   "source": [
    "println(ndims(data2)) # Dimensions\n",
    "println(size(data2)) # Shape of the array/matrix\n",
    "println(length(data2)) #Number of Elements\n",
    "println(eltype(data2)) #data type of elements\n"
   ]
  },
  {
   "cell_type": "markdown",
   "metadata": {},
   "source": [
    "#### Calling the variable without a print statement returns the descriptive information, as well.  "
   ]
  },
  {
   "cell_type": "code",
   "execution_count": 8,
   "metadata": {},
   "outputs": [
    {
     "data": {
      "text/plain": [
       "2×4 Array{Int64,2}:\n",
       " 1  2  3  4\n",
       " 5  6  7  8"
      ]
     },
     "execution_count": 8,
     "metadata": {},
     "output_type": "execute_result"
    }
   ],
   "source": [
    "data2"
   ]
  },
  {
   "cell_type": "markdown",
   "metadata": {},
   "source": [
    "#### Zero array"
   ]
  },
  {
   "cell_type": "code",
   "execution_count": 9,
   "metadata": {},
   "outputs": [
    {
     "name": "stdout",
     "output_type": "stream",
     "text": [
      "[0.0 0.0 0.0 0.0 0.0 0.0; 0.0 0.0 0.0 0.0 0.0 0.0; 0.0 0.0 0.0 0.0 0.0 0.0]\n"
     ]
    },
    {
     "data": {
      "text/plain": [
       "3×6 Array{Float64,2}:\n",
       " 0.0  0.0  0.0  0.0  0.0  0.0\n",
       " 0.0  0.0  0.0  0.0  0.0  0.0\n",
       " 0.0  0.0  0.0  0.0  0.0  0.0"
      ]
     },
     "execution_count": 9,
     "metadata": {},
     "output_type": "execute_result"
    }
   ],
   "source": [
    "zeros_matrix = zeros(3,6)\n",
    "println(zeros_matrix)\n",
    "zeros_matrix"
   ]
  },
  {
   "cell_type": "markdown",
   "metadata": {},
   "source": [
    "#### Empty Array"
   ]
  },
  {
   "cell_type": "code",
   "execution_count": 10,
   "metadata": {},
   "outputs": [
    {
     "data": {
      "text/plain": [
       "3×2×2 Array{Float64,3}:\n",
       "[:, :, 1] =\n",
       " 2.22779e-314  2.22779e-314\n",
       " 2.22779e-314  2.22779e-314\n",
       " 2.22779e-314  2.22779e-314\n",
       "\n",
       "[:, :, 2] =\n",
       " 2.22779e-314  2.22779e-314\n",
       " 2.22779e-314  2.22779e-314\n",
       " 2.22779e-314  2.2727e-322 "
      ]
     },
     "execution_count": 10,
     "metadata": {},
     "output_type": "execute_result"
    }
   ],
   "source": [
    "empty_array = Array{Float64}(undef, (3, 2,2))\n",
    "empty_array"
   ]
  },
  {
   "cell_type": "code",
   "execution_count": 11,
   "metadata": {},
   "outputs": [
    {
     "name": "stdout",
     "output_type": "stream",
     "text": [
      "[0, 1, 2, 3, 4, 5, 6, 7, 8, 9, 10, 11, 12, 13, 14]\n"
     ]
    }
   ],
   "source": [
    "ordered_array = Array(range(0, stop =14, step = 1))\n",
    "println(ordered_array)\n",
    "\n"
   ]
  },
  {
   "cell_type": "markdown",
   "metadata": {},
   "source": [
    "## Arithmatic with arrays"
   ]
  },
  {
   "cell_type": "code",
   "execution_count": 12,
   "metadata": {},
   "outputs": [
    {
     "data": {
      "text/plain": [
       "2×3 Array{Float64,2}:\n",
       " 1.0  2.0  3.0\n",
       " 4.0  5.0  6.0"
      ]
     },
     "execution_count": 12,
     "metadata": {},
     "output_type": "execute_result"
    }
   ],
   "source": [
    "arr = [[1. 2. 3.];[4. 5. 6.]]"
   ]
  },
  {
   "cell_type": "code",
   "execution_count": 13,
   "metadata": {},
   "outputs": [
    {
     "data": {
      "text/plain": [
       "2×3 Array{Float64,2}:\n",
       "  1.0   4.0   9.0\n",
       " 16.0  25.0  36.0"
      ]
     },
     "execution_count": 13,
     "metadata": {},
     "output_type": "execute_result"
    }
   ],
   "source": [
    "arr.*arr # elementwise multiplcation operator is .*"
   ]
  },
  {
   "cell_type": "code",
   "execution_count": 14,
   "metadata": {},
   "outputs": [
    {
     "data": {
      "text/plain": [
       "2×3 Array{Float64,2}:\n",
       " 1.0  1.41421  1.73205\n",
       " 2.0  2.23607  2.44949"
      ]
     },
     "execution_count": 14,
     "metadata": {},
     "output_type": "execute_result"
    }
   ],
   "source": [
    "arr.^0.5 # elementwise exponent operator is .*"
   ]
  },
  {
   "cell_type": "code",
   "execution_count": 15,
   "metadata": {},
   "outputs": [
    {
     "data": {
      "text/plain": [
       "2×3 Array{Float64,2}:\n",
       " 2.0   4.0   6.0\n",
       " 8.0  10.0  12.0"
      ]
     },
     "execution_count": 15,
     "metadata": {},
     "output_type": "execute_result"
    }
   ],
   "source": [
    "arr+arr"
   ]
  },
  {
   "cell_type": "code",
   "execution_count": 16,
   "metadata": {},
   "outputs": [
    {
     "data": {
      "text/plain": [
       "2×3 Array{Float64,2}:\n",
       " 0.0  4.0   1.0\n",
       " 7.0  2.0  12.0"
      ]
     },
     "execution_count": 16,
     "metadata": {},
     "output_type": "execute_result"
    }
   ],
   "source": [
    "arr2 = [[0. 4. 1.]; [7. 2. 12.]]"
   ]
  },
  {
   "cell_type": "code",
   "execution_count": 17,
   "metadata": {},
   "outputs": [
    {
     "name": "stdout",
     "output_type": "stream",
     "text": [
      "Bool[false true false; true false true] \n"
     ]
    }
   ],
   "source": [
    "println(arr2 .> arr, \" \") #elementwise greater than comparison.\n"
   ]
  },
  {
   "cell_type": "code",
   "execution_count": 18,
   "metadata": {},
   "outputs": [
    {
     "name": "stdout",
     "output_type": "stream",
     "text": [
      "false   Bool[false false false; false false false]\n"
     ]
    }
   ],
   "source": [
    "println(arr2 == arr, \"   \", arr2 .== arr) #equal comparisons"
   ]
  },
  {
   "cell_type": "markdown",
   "metadata": {},
   "source": [
    "## Array Slices and indexing"
   ]
  },
  {
   "cell_type": "code",
   "execution_count": 19,
   "metadata": {},
   "outputs": [
    {
     "name": "stdout",
     "output_type": "stream",
     "text": [
      "[0, 1, 2, 3, 4, 5, 6, 7, 8, 9, 10]\n",
      "4\n",
      "[4, 5, 6, 7]\n",
      "[0, 1, 2, 3, 12, 12, 12, 12, 8, 9, 10]\n"
     ]
    }
   ],
   "source": [
    "arr = Array(range(0, stop =10, step = 1))\n",
    "println(arr)\n",
    "println(arr[5])\n",
    "println(arr[5:8])\n",
    "arr[5:8] .= 12  #elementwise assigning values to slice\n",
    "println(arr)"
   ]
  },
  {
   "cell_type": "code",
   "execution_count": 20,
   "metadata": {},
   "outputs": [
    {
     "name": "stdout",
     "output_type": "stream",
     "text": [
      "[555, 12, 12, 12]\n",
      "[0, 1, 2, 3, 12, 12, 12, 12, 8, 9, 10]\n"
     ]
    }
   ],
   "source": [
    "# If an array or slice of an array is assigned to a variable, the variable is a new copy of the array object\n",
    "# It is not a copy\n",
    "\n",
    "array_slice = arr[5:8]\n",
    "array_slice[1] = 555\n",
    "println(array_slice)\n",
    "println(arr)"
   ]
  },
  {
   "cell_type": "markdown",
   "metadata": {},
   "source": [
    "### Boolean Indexing"
   ]
  },
  {
   "cell_type": "code",
   "execution_count": 21,
   "metadata": {},
   "outputs": [
    {
     "name": "stdout",
     "output_type": "stream",
     "text": [
      "[\"Bob\", \"Joe\", \"Will\", \"Bob\", \"Will\", \"Joe\", \"Joe\"]"
     ]
    },
    {
     "data": {
      "text/plain": [
       "7×4 Array{Float64,2}:\n",
       " 0.790989  1.54173   0.924717   1.88892\n",
       " 1.55799   0.554357  0.0937894  1.12163\n",
       " 1.67784   0.995462  1.5621     0.94089\n",
       " 0.686343  1.77844   0.626038   1.68586\n",
       " 0.900848  1.74577   1.96757    1.13016\n",
       " 1.95564   1.51116   1.00336    1.71712\n",
       " 0.9508    0.730112  0.895257   1.30957"
      ]
     },
     "execution_count": 21,
     "metadata": {},
     "output_type": "execute_result"
    }
   ],
   "source": [
    "NamesData = [\"Bob\", \"Joe\", \"Will\", \"Bob\", \"Will\", \"Joe\", \"Joe\"]\n",
    "print(NamesData)\n",
    "random_array =  rand(7,4)*2\n"
   ]
  },
  {
   "cell_type": "code",
   "execution_count": 22,
   "metadata": {},
   "outputs": [
    {
     "data": {
      "text/plain": [
       "7-element BitArray{1}:\n",
       " false\n",
       "  true\n",
       " false\n",
       " false\n",
       " false\n",
       "  true\n",
       "  true"
      ]
     },
     "execution_count": 22,
     "metadata": {},
     "output_type": "execute_result"
    }
   ],
   "source": [
    "NamesFilter = NamesData .== \"Joe\"     #Elementwise array comparison\n",
    "NamesFilter"
   ]
  },
  {
   "cell_type": "code",
   "execution_count": 23,
   "metadata": {},
   "outputs": [
    {
     "data": {
      "text/plain": [
       "3×4 Array{Float64,2}:\n",
       " 1.55799  0.554357  0.0937894  1.12163\n",
       " 1.95564  1.51116   1.00336    1.71712\n",
       " 0.9508   0.730112  0.895257   1.30957"
      ]
     },
     "execution_count": 23,
     "metadata": {},
     "output_type": "execute_result"
    }
   ],
   "source": [
    "random_array[NamesFilter,:]"
   ]
  },
  {
   "cell_type": "code",
   "execution_count": 24,
   "metadata": {},
   "outputs": [
    {
     "data": {
      "text/plain": [
       "3×2 Array{Float64,2}:\n",
       " 0.554357  0.0937894\n",
       " 1.51116   1.00336  \n",
       " 0.730112  0.895257 "
      ]
     },
     "execution_count": 24,
     "metadata": {},
     "output_type": "execute_result"
    }
   ],
   "source": [
    "random_array[NamesFilter,2:3]"
   ]
  },
  {
   "cell_type": "code",
   "execution_count": 25,
   "metadata": {},
   "outputs": [
    {
     "data": {
      "text/plain": [
       "4×4 Array{Float64,2}:\n",
       " 0.790989  1.54173   0.924717  1.88892\n",
       " 1.67784   0.995462  1.5621    0.94089\n",
       " 0.686343  1.77844   0.626038  1.68586\n",
       " 0.900848  1.74577   1.96757   1.13016"
      ]
     },
     "execution_count": 25,
     "metadata": {},
     "output_type": "execute_result"
    }
   ],
   "source": [
    "random_array[.!NamesFilter,:]   #Negate the Boolean values."
   ]
  },
  {
   "cell_type": "code",
   "execution_count": 26,
   "metadata": {},
   "outputs": [
    {
     "data": {
      "text/plain": [
       "7-element BitArray{1}:\n",
       "  true\n",
       " false\n",
       "  true\n",
       "  true\n",
       "  true\n",
       " false\n",
       " false"
      ]
     },
     "execution_count": 26,
     "metadata": {},
     "output_type": "execute_result"
    }
   ],
   "source": [
    "NamesFilter = (NamesData .== \"Will\") .| (NamesData .== \"Bob\")   #Elementwise array comparison, must use parentheses\n",
    "NamesFilter"
   ]
  },
  {
   "cell_type": "code",
   "execution_count": 27,
   "metadata": {},
   "outputs": [
    {
     "data": {
      "text/plain": [
       "7×4 BitArray{2}:\n",
       " false   true  false   true\n",
       "  true  false  false   true\n",
       "  true  false   true  false\n",
       " false   true  false   true\n",
       " false   true   true   true\n",
       "  true   true   true   true\n",
       " false  false  false   true"
      ]
     },
     "execution_count": 27,
     "metadata": {},
     "output_type": "execute_result"
    }
   ],
   "source": [
    "MatrixFilter = random_array.>1"
   ]
  },
  {
   "cell_type": "code",
   "execution_count": 28,
   "metadata": {},
   "outputs": [
    {
     "data": {
      "text/plain": [
       "7×4 Array{Float64,2}:\n",
       " 0.790989  1.0       0.924717   1.0    \n",
       " 1.0       0.554357  0.0937894  1.0    \n",
       " 1.0       0.995462  1.0        0.94089\n",
       " 0.686343  1.0       0.626038   1.0    \n",
       " 0.900848  1.0       1.0        1.0    \n",
       " 1.0       1.0       1.0        1.0    \n",
       " 0.9508    0.730112  0.895257   1.0    "
      ]
     },
     "execution_count": 28,
     "metadata": {},
     "output_type": "execute_result"
    }
   ],
   "source": [
    "random_array[random_array .> 1] .= 1   #elemetwise, replace values on the original object.\n",
    "random_array \n"
   ]
  },
  {
   "cell_type": "code",
   "execution_count": 29,
   "metadata": {},
   "outputs": [
    {
     "data": {
      "text/plain": [
       "7×4 Array{Float64,2}:\n",
       " 7.0     7.0       7.0        7.0\n",
       " 1.0     0.554357  0.0937894  1.0\n",
       " 7.0     7.0       7.0        7.0\n",
       " 7.0     7.0       7.0        7.0\n",
       " 7.0     7.0       7.0        7.0\n",
       " 1.0     1.0       1.0        1.0\n",
       " 0.9508  0.730112  0.895257   1.0"
      ]
     },
     "execution_count": 29,
     "metadata": {},
     "output_type": "execute_result"
    }
   ],
   "source": [
    "random_array[NamesFilter,:] .=7\n",
    "random_array\n"
   ]
  },
  {
   "cell_type": "markdown",
   "metadata": {},
   "source": [
    "### Fancy Indexing"
   ]
  },
  {
   "cell_type": "code",
   "execution_count": 30,
   "metadata": {},
   "outputs": [
    {
     "data": {
      "text/plain": [
       "8×4 Array{Float64,2}:\n",
       " 2.23817e-314  2.23817e-314  2.23817e-314  2.23817e-314\n",
       " 2.23817e-314  2.23817e-314  2.23817e-314  2.23817e-314\n",
       " 2.23817e-314  2.23817e-314  2.23817e-314  2.23817e-314\n",
       " 2.23817e-314  2.23817e-314  2.23817e-314  2.23817e-314\n",
       " 2.23817e-314  2.23817e-314  2.23817e-314  2.23817e-314\n",
       " 2.23817e-314  2.23817e-314  2.23817e-314  2.23817e-314\n",
       " 2.23817e-314  2.23817e-314  2.23817e-314  2.23817e-314\n",
       " 2.23817e-314  2.23817e-314  2.23817e-314  2.23817e-314"
      ]
     },
     "execution_count": 30,
     "metadata": {},
     "output_type": "execute_result"
    }
   ],
   "source": [
    "FancyArray = Array{Float64}(undef, (8, 4))\n",
    "FancyArray"
   ]
  },
  {
   "cell_type": "code",
   "execution_count": 31,
   "metadata": {},
   "outputs": [
    {
     "data": {
      "text/plain": [
       "8×4 Array{Float64,2}:\n",
       " 1.0  1.0  1.0  1.0\n",
       " 2.0  2.0  2.0  2.0\n",
       " 3.0  3.0  3.0  3.0\n",
       " 4.0  4.0  4.0  4.0\n",
       " 5.0  5.0  5.0  5.0\n",
       " 6.0  6.0  6.0  6.0\n",
       " 7.0  7.0  7.0  7.0\n",
       " 8.0  8.0  8.0  8.0"
      ]
     },
     "execution_count": 31,
     "metadata": {},
     "output_type": "execute_result"
    }
   ],
   "source": [
    "for i in 1:8\n",
    "    FancyArray[i,:] .= i\n",
    "end\n",
    "FancyArray"
   ]
  },
  {
   "cell_type": "code",
   "execution_count": 32,
   "metadata": {},
   "outputs": [
    {
     "data": {
      "text/plain": [
       "4×4 Array{Float64,2}:\n",
       " 4.0  4.0  4.0  4.0\n",
       " 3.0  3.0  3.0  3.0\n",
       " 1.0  1.0  1.0  1.0\n",
       " 6.0  6.0  6.0  6.0"
      ]
     },
     "execution_count": 32,
     "metadata": {},
     "output_type": "execute_result"
    }
   ],
   "source": [
    "FancyArray[[4, 3, 1, 6],:]"
   ]
  },
  {
   "cell_type": "code",
   "execution_count": 33,
   "metadata": {},
   "outputs": [
    {
     "data": {
      "text/plain": [
       "3×4 Array{Float64,2}:\n",
       " 8.0  8.0  8.0  8.0\n",
       " 5.0  5.0  5.0  5.0\n",
       " 2.0  2.0  2.0  2.0"
      ]
     },
     "execution_count": 33,
     "metadata": {},
     "output_type": "execute_result"
    }
   ],
   "source": [
    "FancyArray[end:-3:2,:]   # Indexing from the end with negative numbers doesn't work. Instead, use reverse indexing. "
   ]
  },
  {
   "cell_type": "code",
   "execution_count": 34,
   "metadata": {},
   "outputs": [
    {
     "data": {
      "text/plain": [
       "2×2 Array{Float64,2}:\n",
       " 1.0  1.0\n",
       " 3.0  3.0"
      ]
     },
     "execution_count": 34,
     "metadata": {},
     "output_type": "execute_result"
    }
   ],
   "source": [
    "FancyArray[[1,3],[2,3]]"
   ]
  },
  {
   "cell_type": "code",
   "execution_count": 35,
   "metadata": {},
   "outputs": [
    {
     "data": {
      "text/plain": [
       "2×2 Array{Float64,2}:\n",
       " 2.0  2.0\n",
       " 1.0  1.0"
      ]
     },
     "execution_count": 35,
     "metadata": {},
     "output_type": "execute_result"
    }
   ],
   "source": [
    "FancyArray[[2,1],[2,3]]"
   ]
  },
  {
   "cell_type": "code",
   "execution_count": 36,
   "metadata": {},
   "outputs": [
    {
     "data": {
      "text/plain": [
       "4×8 Array{Float64,2}:\n",
       " 1.0  5.0  1.0  5.0  1.0  5.0  1.0  5.0\n",
       " 2.0  6.0  2.0  6.0  2.0  6.0  2.0  6.0\n",
       " 3.0  7.0  3.0  7.0  3.0  7.0  3.0  7.0\n",
       " 4.0  8.0  4.0  8.0  4.0  8.0  4.0  8.0"
      ]
     },
     "execution_count": 36,
     "metadata": {},
     "output_type": "execute_result"
    }
   ],
   "source": [
    "reshape(FancyArray,4,8)"
   ]
  },
  {
   "cell_type": "code",
   "execution_count": 37,
   "metadata": {},
   "outputs": [
    {
     "data": {
      "text/plain": [
       "8×4 Array{Float64,2}:\n",
       " 1.0  1.0  1.0  1.0\n",
       " 2.0  2.0  2.0  2.0\n",
       " 3.0  3.0  3.0  3.0\n",
       " 4.0  4.0  4.0  4.0\n",
       " 5.0  5.0  5.0  5.0\n",
       " 6.0  6.0  6.0  6.0\n",
       " 7.0  7.0  7.0  7.0\n",
       " 8.0  8.0  8.0  8.0"
      ]
     },
     "execution_count": 37,
     "metadata": {},
     "output_type": "execute_result"
    }
   ],
   "source": [
    "FancyArray"
   ]
  },
  {
   "cell_type": "markdown",
   "metadata": {},
   "source": [
    "### Transposing Arrays and Swapping Axes"
   ]
  },
  {
   "cell_type": "code",
   "execution_count": 38,
   "metadata": {},
   "outputs": [],
   "source": [
    "using LinearAlgebra"
   ]
  },
  {
   "cell_type": "code",
   "execution_count": 39,
   "metadata": {},
   "outputs": [
    {
     "data": {
      "text/plain": [
       "4×8 Transpose{Float64,Array{Float64,2}}:\n",
       " 1.0  2.0  3.0  4.0  5.0  6.0  7.0  8.0\n",
       " 1.0  2.0  3.0  4.0  5.0  6.0  7.0  8.0\n",
       " 1.0  2.0  3.0  4.0  5.0  6.0  7.0  8.0\n",
       " 1.0  2.0  3.0  4.0  5.0  6.0  7.0  8.0"
      ]
     },
     "execution_count": 39,
     "metadata": {},
     "output_type": "execute_result"
    }
   ],
   "source": [
    "TArray = transpose(FancyArray)"
   ]
  },
  {
   "cell_type": "code",
   "execution_count": 40,
   "metadata": {},
   "outputs": [
    {
     "data": {
      "text/plain": [
       "4×4 Array{Float64,2}:\n",
       " 204.0  204.0  204.0  204.0\n",
       " 204.0  204.0  204.0  204.0\n",
       " 204.0  204.0  204.0  204.0\n",
       " 204.0  204.0  204.0  204.0"
      ]
     },
     "execution_count": 40,
     "metadata": {},
     "output_type": "execute_result"
    }
   ],
   "source": [
    "*(TArray, FancyArray)                  #Matrix inner product"
   ]
  },
  {
   "cell_type": "code",
   "execution_count": 41,
   "metadata": {},
   "outputs": [
    {
     "data": {
      "text/plain": [
       "680.0"
      ]
     },
     "execution_count": 41,
     "metadata": {},
     "output_type": "execute_result"
    }
   ],
   "source": [
    "dot(TArray, FancyArray)               #Scalar inner product\n"
   ]
  },
  {
   "cell_type": "code",
   "execution_count": 42,
   "metadata": {},
   "outputs": [
    {
     "name": "stdout",
     "output_type": "stream",
     "text": [
      "[1 3 5 7; 2 4 6 8]\n",
      "\n",
      "[9 11 13 15; 10 12 14 16]\n",
      "[1 3 5 7; 9 11 13 15]\n",
      "\n",
      "[2 4 6 8; 10 12 14 16]\n"
     ]
    }
   ],
   "source": [
    "ThreeAxesArray = reshape(collect(1:16),2,4,2)            #That doesn't work as expected.\n",
    "println(ThreeAxesArray)\n",
    "\n",
    "println(permutedims(ThreeAxesArray,[3,2,1]))"
   ]
  },
  {
   "cell_type": "code",
   "execution_count": 43,
   "metadata": {},
   "outputs": [
    {
     "name": "stdout",
     "output_type": "stream",
     "text": [
      "1:16\n"
     ]
    }
   ],
   "source": [
    "println(1:16)"
   ]
  },
  {
   "cell_type": "code",
   "execution_count": 44,
   "metadata": {},
   "outputs": [
    {
     "data": {
      "text/plain": [
       "2×4×2 Array{Int64,3}:\n",
       "[:, :, 1] =\n",
       " 1  2  3  4\n",
       " 5  6  7  8\n",
       "\n",
       "[:, :, 2] =\n",
       "  9  10  11  12\n",
       " 13  14  15  16"
      ]
     },
     "execution_count": 44,
     "metadata": {},
     "output_type": "execute_result"
    }
   ],
   "source": [
    "array_transposing = transpose(reshape(collect(1:16),16,1))    #This seems more complex than it should\n",
    "array_transposing2 = reshape(array_transposing,4,2,2)\n",
    "array_transposing3 = permutedims(array_transposing2,[2,1,3])"
   ]
  },
  {
   "cell_type": "code",
   "execution_count": 45,
   "metadata": {},
   "outputs": [
    {
     "data": {
      "text/plain": [
       "4×2×2 Array{Int64,3}:\n",
       "[:, :, 1] =\n",
       " 1  5\n",
       " 2  6\n",
       " 3  7\n",
       " 4  8\n",
       "\n",
       "[:, :, 2] =\n",
       "  9  13\n",
       " 10  14\n",
       " 11  15\n",
       " 12  16"
      ]
     },
     "execution_count": 45,
     "metadata": {},
     "output_type": "execute_result"
    }
   ],
   "source": [
    "permutedims(array_transposing3,[2,1,3])                   #Like Swapaxes in Python, but more explict."
   ]
  },
  {
   "cell_type": "markdown",
   "metadata": {},
   "source": [
    "## Universal Functions: Fast Element-Wise Array Functions"
   ]
  },
  {
   "cell_type": "code",
   "execution_count": 46,
   "metadata": {},
   "outputs": [
    {
     "name": "stdout",
     "output_type": "stream",
     "text": [
      "[1.0, 1.41421, 1.73205, 2.0, 2.23607, 2.44949, 2.64575, 2.82843, 3.0]\n",
      "[2.71828, 7.38906, 20.0855, 54.5982, 148.413, 403.429, 1096.63, 2980.96, 8103.08]\n"
     ]
    }
   ],
   "source": [
    "arr = collect(1:9)                \n",
    "println(sqrt.(arr))                        #to apply the fucntion elementwise, use .() not just ()\n",
    "println(exp.(arr))"
   ]
  },
  {
   "cell_type": "code",
   "execution_count": 47,
   "metadata": {},
   "outputs": [
    {
     "name": "stdout",
     "output_type": "stream",
     "text": [
      "[0.955473, 0.0651045, 0.672719, 0.32485, 0.740971, 0.0501096, 0.767071, 0.617469]\n",
      "[0.641198, 0.0860617, 0.029747, 0.964387, 0.584975, 0.797683, 0.376823, 0.571491]\n",
      "0.955472776357779\n",
      "[0.955473, 0.0651045, 0.672719, 0.32485, 0.740971, 0.0501096, 0.767071, 0.617469]\n"
     ]
    }
   ],
   "source": [
    "x = rand(8)\n",
    "y = rand(8)\n",
    "println(x)\n",
    "println(y)\n",
    "println(maximum(x))                     #maximum element of the array\n",
    "println(max(x,y))                       #Compare the arrays, pairwise."
   ]
  },
  {
   "cell_type": "code",
   "execution_count": 48,
   "metadata": {},
   "outputs": [
    {
     "name": "stdout",
     "output_type": "stream",
     "text": [
      "(0.9109455527155581, 1.0)\n",
      "(0.13020894437206998, 0.0)\n"
     ]
    }
   ],
   "source": [
    "remainder, whole = modf.(2x)\n",
    "println(remainder)\n",
    "println(whole)"
   ]
  },
  {
   "cell_type": "code",
   "execution_count": 49,
   "metadata": {},
   "outputs": [
    {
     "name": "stdout",
     "output_type": "stream",
     "text": [
      "Tuple{Float64,Float64}[(0.910946, 1.0), (0.130209, 0.0), (0.345439, 1.0), (0.6497, 0.0), (0.481942, 1.0), (0.100219, 0.0), (0.534142, 1.0), (0.234939, 1.0)]\n"
     ]
    }
   ],
   "source": [
    "println(modf.(2x))"
   ]
  },
  {
   "cell_type": "code",
   "execution_count": 50,
   "metadata": {},
   "outputs": [
    {
     "name": "stdout",
     "output_type": "stream",
     "text": [
      "[0.910946, 0.130209, 0.345439, 0.6497, 0.481942, 0.100219, 0.534142, 0.234939]\n",
      "[1.0, 0.0, 1.0, 0.0, 1.0, 0.0, 1.0, 1.0]\n"
     ]
    }
   ],
   "source": [
    "remainder = [y[1] for y in modf.(2x)]                  \n",
    "whole = [y[2] for y in modf.(2x)]\n",
    "println(remainder)\n",
    "println(whole)"
   ]
  },
  {
   "cell_type": "code",
   "execution_count": 51,
   "metadata": {},
   "outputs": [
    {
     "name": "stdout",
     "output_type": "stream",
     "text": [
      "(0.9109455527155581, 1.0)\n",
      "(0.13020894437206998, 0.0)\n"
     ]
    }
   ],
   "source": [
    "remainder, whole = modf.(2x)                  #modf returns an array of tuples, python returns 2 arrays\n",
    "println(remainder)\n",
    "println(whole)"
   ]
  },
  {
   "cell_type": "markdown",
   "metadata": {},
   "source": [
    "## Array-Oriented Programming with Arrays"
   ]
  },
  {
   "cell_type": "code",
   "execution_count": 52,
   "metadata": {},
   "outputs": [],
   "source": [
    "#using Pkg\n",
    "#Pkg.add(\"VectorizedRoutines\")\n",
    "using VectorizedRoutines"
   ]
  },
  {
   "cell_type": "code",
   "execution_count": 53,
   "metadata": {},
   "outputs": [
    {
     "data": {
      "text/plain": [
       "([-5.0 -4.99 … 4.99 5.0; -5.0 -4.99 … 4.99 5.0; … ; -5.0 -4.99 … 4.99 5.0; -5.0 -4.99 … 4.99 5.0], [-5.0 -5.0 … -5.0 -5.0; -4.99 -4.99 … -4.99 -4.99; … ; 4.99 4.99 … 4.99 4.99; 5.0 5.0 … 5.0 5.0])"
      ]
     },
     "execution_count": 53,
     "metadata": {},
     "output_type": "execute_result"
    }
   ],
   "source": [
    "PointsArray = Array(range(-5, stop =5, step = .01))\n",
    "#println(PointsArray)\n",
    "xs, ys = Matlab.meshgrid(PointsArray,PointsArray)"
   ]
  },
  {
   "cell_type": "code",
   "execution_count": 54,
   "metadata": {},
   "outputs": [
    {
     "data": {
      "text/plain": [
       "1001×1001 Array{Float64,2}:\n",
       " 7.07107  7.064    7.05694  7.04989  …  7.04989  7.05694  7.064    7.07107\n",
       " 7.064    7.05693  7.04986  7.0428      7.0428   7.04986  7.05693  7.064  \n",
       " 7.05694  7.04986  7.04278  7.03572     7.03572  7.04278  7.04986  7.05694\n",
       " 7.04989  7.0428   7.03572  7.02864     7.02864  7.03572  7.0428   7.04989\n",
       " 7.04284  7.03574  7.02866  7.02157     7.02157  7.02866  7.03574  7.04284\n",
       " 7.0358   7.0287   7.0216   7.01451  …  7.01451  7.0216   7.0287   7.0358 \n",
       " 7.02877  7.02166  7.01456  7.00746     7.00746  7.01456  7.02166  7.02877\n",
       " 7.02174  7.01463  7.00752  7.00041     7.00041  7.00752  7.01463  7.02174\n",
       " 7.01473  7.0076   7.00049  6.99338     6.99338  7.00049  7.0076   7.01473\n",
       " 7.00772  7.00059  6.99346  6.98634     6.98634  6.99346  7.00059  7.00772\n",
       " 7.00071  6.99358  6.98644  6.97932  …  6.97932  6.98644  6.99358  7.00071\n",
       " 6.99372  6.98657  6.97943  6.9723      6.9723   6.97943  6.98657  6.99372\n",
       " 6.98673  6.97958  6.97243  6.96529     6.96529  6.97243  6.97958  6.98673\n",
       " ⋮                                   ⋱                             ⋮      \n",
       " 6.99372  6.98657  6.97943  6.9723      6.9723   6.97943  6.98657  6.99372\n",
       " 7.00071  6.99358  6.98644  6.97932  …  6.97932  6.98644  6.99358  7.00071\n",
       " 7.00772  7.00059  6.99346  6.98634     6.98634  6.99346  7.00059  7.00772\n",
       " 7.01473  7.0076   7.00049  6.99338     6.99338  7.00049  7.0076   7.01473\n",
       " 7.02174  7.01463  7.00752  7.00041     7.00041  7.00752  7.01463  7.02174\n",
       " 7.02877  7.02166  7.01456  7.00746     7.00746  7.01456  7.02166  7.02877\n",
       " 7.0358   7.0287   7.0216   7.01451  …  7.01451  7.0216   7.0287   7.0358 \n",
       " 7.04284  7.03574  7.02866  7.02157     7.02157  7.02866  7.03574  7.04284\n",
       " 7.04989  7.0428   7.03572  7.02864     7.02864  7.03572  7.0428   7.04989\n",
       " 7.05694  7.04986  7.04278  7.03572     7.03572  7.04278  7.04986  7.05694\n",
       " 7.064    7.05693  7.04986  7.0428      7.0428   7.04986  7.05693  7.064  \n",
       " 7.07107  7.064    7.05694  7.04989  …  7.04989  7.05694  7.064    7.07107"
      ]
     },
     "execution_count": 54,
     "metadata": {},
     "output_type": "execute_result"
    }
   ],
   "source": [
    "z = sqrt.((xs .^ 2) + (ys .^ 2))\n",
    "z"
   ]
  },
  {
   "cell_type": "code",
   "execution_count": 55,
   "metadata": {},
   "outputs": [],
   "source": [
    "#using Pkg\n",
    "#Pkg.add(\"Plots\")\n",
    "using Plots"
   ]
  },
  {
   "cell_type": "markdown",
   "metadata": {},
   "source": [
    "#### Plotting in Julia is a bit messy. It is a bit more involved than a simple eample needs."
   ]
  },
  {
   "cell_type": "code",
   "execution_count": 56,
   "metadata": {},
   "outputs": [
    {
     "data": {
      "image/png": "[encoded data removed]"
     },
     "execution_count": 56,
     "metadata": {},
     "output_type": "execute_result"
    }
   ],
   "source": [
    "#Pkg.add(\"PyPlot\") # Install a different backend\n",
    "pyplot() # Switch to using the PyPlot.jl backend\n",
    "plot(z,linewidth=2,title=\"My Plot\") # The same plotting command works"
   ]
  },
  {
   "cell_type": "code",
   "execution_count": 57,
   "metadata": {},
   "outputs": [
    {
     "data": {
      "image/png": "[encoded data removed]"
     },
     "execution_count": 57,
     "metadata": {},
     "output_type": "execute_result"
    }
   ],
   "source": [
    "x = range(0,stop=2*pi,length=1000)\n",
    "y= sin.(3*x + 4*cos.(2*x))\n",
    "plot(x, y, color=\"red\", linewidth=2.0)"
   ]
  },
  {
   "cell_type": "markdown",
   "metadata": {},
   "source": [
    "### Expressing Conditional Logic as Array Operations"
   ]
  },
  {
   "cell_type": "code",
   "execution_count": 58,
   "metadata": {},
   "outputs": [
    {
     "data": {
      "text/plain": [
       "5-element Array{Bool,1}:\n",
       "  true\n",
       " false\n",
       "  true\n",
       "  true\n",
       " false"
      ]
     },
     "execution_count": 58,
     "metadata": {},
     "output_type": "execute_result"
    }
   ],
   "source": [
    "xarr = Array([1.1 1.2 1.3 1.4 1.5])\n",
    "yarr = Array([2.1 2.2 2.3 2.4 2.5])\n",
    "cond = Array([true, false, true, true, false])              #all lower cases."
   ]
  },
  {
   "cell_type": "code",
   "execution_count": 59,
   "metadata": {},
   "outputs": [
    {
     "name": "stdout",
     "output_type": "stream",
     "text": [
      "[1.1, 2.2, 1.3, 1.4, 2.5]\n",
      "[1.1, 2.2, 1.3, 1.4, 2.5]\n"
     ]
    }
   ],
   "source": [
    "q = zip(xarr, yarr, cond)\n",
    "result = [(if c x else y end ) for (x, y, c) in q]        #Julia likes to have and end to the if statement\n",
    "println(result)\n",
    "result = [c ? x : y for (x, y, c) in q]                   #same result with the ternary operator.\n",
    "println(result)"
   ]
  },
  {
   "cell_type": "markdown",
   "metadata": {},
   "source": [
    "##### Trying to compare numpy \"Where\" for arrays doesn't havea  direct equivalent in Julia.  This could be written as a function.\n"
   ]
  },
  {
   "cell_type": "code",
   "execution_count": 60,
   "metadata": {},
   "outputs": [
    {
     "data": {
      "text/plain": [
       "5×5 Array{Float64,2}:\n",
       " 1.1  1.2  1.3  1.4  1.5\n",
       " 2.1  2.2  2.3  2.4  2.5\n",
       " 1.1  1.2  1.3  1.4  1.5\n",
       " 1.1  1.2  1.3  1.4  1.5\n",
       " 2.1  2.2  2.3  2.4  2.5"
      ]
     },
     "execution_count": 60,
     "metadata": {},
     "output_type": "execute_result"
    }
   ],
   "source": [
    "q = ifelse.(cond, xarr, yarr)                             # Not quite the goal....."
   ]
  },
  {
   "cell_type": "markdown",
   "metadata": {},
   "source": [
    "### Mathematical and Statistical Methods"
   ]
  },
  {
   "cell_type": "code",
   "execution_count": 61,
   "metadata": {},
   "outputs": [],
   "source": [
    "#using Pkg\n",
    "#Pkg.add(\"Statistics\")\n",
    "using Statistics"
   ]
  },
  {
   "cell_type": "code",
   "execution_count": 62,
   "metadata": {},
   "outputs": [
    {
     "name": "stdout",
     "output_type": "stream",
     "text": [
      "[0.363715 0.934456 0.155383 0.292383; 0.148623 0.564686 0.130858 0.941116; 0.385411 0.741559 0.437512 0.257563; 0.838824 0.972031 0.345499 0.89694; 0.181612 0.962418 0.470879 0.174609]\n",
      "0.5098037844547235\n",
      "10.19607568909447\n"
     ]
    }
   ],
   "source": [
    "arr = rand(5, 4)\n",
    "println(arr)\n",
    "println(mean(arr))\n",
    "println(sum(arr))"
   ]
  },
  {
   "cell_type": "code",
   "execution_count": 63,
   "metadata": {},
   "outputs": [
    {
     "data": {
      "text/plain": [
       "5×1 Array{Float64,2}:\n",
       " 1.7459367115779636\n",
       " 1.78528316889857  \n",
       " 1.8220448914101608\n",
       " 3.0532938932220897\n",
       " 1.7895170239856872"
      ]
     },
     "execution_count": 63,
     "metadata": {},
     "output_type": "execute_result"
    }
   ],
   "source": [
    "mean(arr,dims=1)\n",
    "sum(arr,dims=2)"
   ]
  },
  {
   "cell_type": "code",
   "execution_count": 64,
   "metadata": {},
   "outputs": [
    {
     "name": "stdout",
     "output_type": "stream",
     "text": [
      "[0, 1, 2, 3, 4, 5, 6, 7]\n",
      "[0, 1, 3, 6, 10, 15, 21, 28]\n",
      "[0, 1, 2, 3, 4, 5, 6, 7]\n",
      "[0 1 2 3 4 5 6 7]\n",
      "[0 1 2 3 4 5 6 7]\n",
      "[0 1 3 6 10 15 21 28]\n"
     ]
    },
    {
     "data": {
      "text/plain": [
       "1×8 Array{Int64,2}:\n",
       " 0  1  2  3  4  5  6  7"
      ]
     },
     "execution_count": 64,
     "metadata": {},
     "output_type": "execute_result"
    }
   ],
   "source": [
    "arr = [0, 1, 2, 3, 4, 5, 6, 7]                      #Cumlative sum. \n",
    "println(arr)\n",
    "println(cumsum(arr, dims =1))\n",
    "println(cumsum(arr, dims =2))\n",
    "arr = [0 1 2 3 4 5 6 7]                             #Cumlative sum. The notation difference chages the array axes.\n",
    "println(arr)\n",
    "println(cumsum(arr, dims =1))\n",
    "println(cumsum(arr, dims =2))\n",
    "\n",
    "cumprod(arr, dims=1)"
   ]
  },
  {
   "cell_type": "code",
   "execution_count": 65,
   "metadata": {},
   "outputs": [
    {
     "name": "stdout",
     "output_type": "stream",
     "text": [
      "[0 3 6; 1 4 7; 2 5 8]\n",
      "[0 3 9; 1 5 12; 2 7 15]\n"
     ]
    },
    {
     "ename": "UndefVarError",
     "evalue": "UndefVarError: f not defined",
     "output_type": "error",
     "traceback": [
      "UndefVarError: f not defined",
      "",
      "Stacktrace:",
      " [1] top-level scope at In[65]:4"
     ]
    }
   ],
   "source": [
    "arr = ([[0, 1, 2] [3, 4, 5] [6, 7, 8]])\n",
    "println(arr)\n",
    "println(cumsum(arr, dims=2))\n",
    "println(cumprod(arr,dims=2f))"
   ]
  },
  {
   "cell_type": "markdown",
   "metadata": {},
   "source": [
    "### Methods for Boolean Arrays"
   ]
  },
  {
   "cell_type": "code",
   "execution_count": 66,
   "metadata": {},
   "outputs": [
    {
     "data": {
      "text/plain": [
       "7"
      ]
     },
     "execution_count": 66,
     "metadata": {},
     "output_type": "execute_result"
    }
   ],
   "source": [
    "arr = randn((5, 4)) \n",
    "sum(arr .> 0)  # Number of positive values"
   ]
  },
  {
   "cell_type": "code",
   "execution_count": 67,
   "metadata": {},
   "outputs": [
    {
     "name": "stdout",
     "output_type": "stream",
     "text": [
      "true\n",
      "false\n"
     ]
    }
   ],
   "source": [
    "bool_arr = [true false false true false]\n",
    "println(any(bool_arr))\n",
    "println(all(bool_arr))"
   ]
  },
  {
   "cell_type": "markdown",
   "metadata": {},
   "source": [
    "### Sorting"
   ]
  },
  {
   "cell_type": "code",
   "execution_count": 68,
   "metadata": {},
   "outputs": [
    {
     "data": {
      "text/plain": [
       "12-element Array{Float64,1}:\n",
       " -1.584543572290927  \n",
       " -1.4705017389403285 \n",
       " -1.1860122885413813 \n",
       " -0.6086973810829743 \n",
       " -0.347273576449883  \n",
       "  0.04106476156914303\n",
       "  0.05986584750532748\n",
       "  0.25455831262276873\n",
       "  0.373273398922364  \n",
       "  0.4939128603191023 \n",
       "  0.8190013564276872 \n",
       "  1.501588061914835  "
      ]
     },
     "execution_count": 68,
     "metadata": {},
     "output_type": "execute_result"
    }
   ],
   "source": [
    "arr = randn((12)) \n",
    "sort(arr)"
   ]
  },
  {
   "cell_type": "code",
   "execution_count": 69,
   "metadata": {},
   "outputs": [
    {
     "data": {
      "text/plain": [
       "5×4 Array{Float64,2}:\n",
       " -0.455895   -0.638994  -1.47482    0.189126 \n",
       "  2.58461    -1.09084   -0.694764   1.64033  \n",
       "  0.077443   -0.318034  -1.20602   -0.415449 \n",
       "  0.0872919   1.20211    0.824912   0.0238142\n",
       " -1.8988     -1.09162   -0.308297   0.343175 "
      ]
     },
     "execution_count": 69,
     "metadata": {},
     "output_type": "execute_result"
    }
   ],
   "source": [
    "arr = randn((5, 4)) "
   ]
  },
  {
   "cell_type": "code",
   "execution_count": 70,
   "metadata": {},
   "outputs": [
    {
     "data": {
      "text/plain": [
       "5×4 Array{Float64,2}:\n",
       " -1.8988     -1.09162   -1.47482   -0.415449 \n",
       " -0.455895   -1.09084   -1.20602    0.0238142\n",
       "  0.077443   -0.638994  -0.694764   0.189126 \n",
       "  0.0872919  -0.318034  -0.308297   0.343175 \n",
       "  2.58461     1.20211    0.824912   1.64033  "
      ]
     },
     "execution_count": 70,
     "metadata": {},
     "output_type": "execute_result"
    }
   ],
   "source": [
    "sort(arr, dims =1)                           #sorts rows based on first column"
   ]
  },
  {
   "cell_type": "code",
   "execution_count": 71,
   "metadata": {},
   "outputs": [
    {
     "data": {
      "text/plain": [
       "5×4 Array{Float64,2}:\n",
       " -1.47482    -0.638994   -0.455895  0.189126\n",
       " -1.09084    -0.694764    1.64033   2.58461 \n",
       " -1.20602    -0.415449   -0.318034  0.077443\n",
       "  0.0238142   0.0872919   0.824912  1.20211 \n",
       " -1.8988     -1.09162    -0.308297  0.343175"
      ]
     },
     "execution_count": 71,
     "metadata": {},
     "output_type": "execute_result"
    }
   ],
   "source": [
    "sort(arr, dims =2)                            #sorts all rows"
   ]
  },
  {
   "cell_type": "code",
   "execution_count": 72,
   "metadata": {},
   "outputs": [
    {
     "ename": "ArgumentError",
     "evalue": "ArgumentError: invalid index: Int(floor(0.05 * length(large_arr))) of type Expr",
     "output_type": "error",
     "traceback": [
      "ArgumentError: invalid index: Int(floor(0.05 * length(large_arr))) of type Expr",
      "",
      "Stacktrace:",
      " [1] to_index(::Expr) at ./indices.jl:270",
      " [2] to_index(::Array{Float64,1}, ::Expr) at ./indices.jl:247",
      " [3] to_indices at ./indices.jl:298 [inlined]",
      " [4] to_indices at ./indices.jl:295 [inlined]",
      " [5] getindex(::Array{Float64,1}, ::Expr) at ./abstractarray.jl:927",
      " [6] top-level scope at In[72]:4"
     ]
    }
   ],
   "source": [
    "large_arr = randn(1000)\n",
    "#println(large_arr)\n",
    "sort!(large_arr)                                   #sortin place\n",
    "#println(large_arr)\n",
    "large_arr[:(Int(floor(0.05 * length(large_arr))))] # 5% quantile"
   ]
  },
  {
   "cell_type": "code",
   "execution_count": 73,
   "metadata": {},
   "outputs": [
    {
     "data": {
      "text/plain": [
       "50"
      ]
     },
     "execution_count": 73,
     "metadata": {},
     "output_type": "execute_result"
    }
   ],
   "source": [
    "BreakPoint = Int(floor(0.05 * length(large_arr)))\n"
   ]
  },
  {
   "cell_type": "code",
   "execution_count": 74,
   "metadata": {},
   "outputs": [
    {
     "data": {
      "text/plain": [
       "50-element Array{Float64,1}:\n",
       " -3.236834275768326 \n",
       " -3.191841385565685 \n",
       " -3.0605872524935394\n",
       " -2.947440692597936 \n",
       " -2.941599428339186 \n",
       " -2.5305408149824977\n",
       " -2.365851089432999 \n",
       " -2.3193214817471075\n",
       " -2.2952456951973996\n",
       " -2.2457040505144503\n",
       " -2.232182844404515 \n",
       " -2.162455379125206 \n",
       " -2.1264301249092905\n",
       "  ⋮                 \n",
       " -1.6713677096089987\n",
       " -1.6698733009619233\n",
       " -1.6539743263099242\n",
       " -1.6537174429414865\n",
       " -1.6458618954387854\n",
       " -1.6326893255689041\n",
       " -1.6321303435221577\n",
       " -1.629909540897241 \n",
       " -1.6235063905078662\n",
       " -1.601041969669316 \n",
       " -1.5927205663695567\n",
       " -1.588059331531561 "
      ]
     },
     "execution_count": 74,
     "metadata": {},
     "output_type": "execute_result"
    }
   ],
   "source": [
    "large_arr[1:BreakPoint]"
   ]
  },
  {
   "cell_type": "markdown",
   "metadata": {},
   "source": [
    "### Unique and Other Set Logic"
   ]
  },
  {
   "cell_type": "code",
   "execution_count": 75,
   "metadata": {},
   "outputs": [
    {
     "name": "stdout",
     "output_type": "stream",
     "text": [
      "[\"Bob\", \"Joe\", \"Will\"]\n",
      "[3, 2, 1, 4]\n"
     ]
    }
   ],
   "source": [
    "names = [\"Bob\" \"Joe\" \"Will\" \"Bob\" \"Will\" \"Joe\" \"Joe\"]\n",
    "println(unique(names))\n",
    "ints = [3 3 3 2 2 1 1 4 4]\n",
    "println(unique(ints))"
   ]
  },
  {
   "cell_type": "code",
   "execution_count": 76,
   "metadata": {},
   "outputs": [
    {
     "name": "stdout",
     "output_type": "stream",
     "text": [
      "Set([\"Will\", \"Joe\", \"Bob\"])\n",
      "Set([4, 2, 3, 1])\n",
      "[\"Bob\", \"Joe\", \"Will\"]\n",
      "[1, 2, 3, 4]\n"
     ]
    }
   ],
   "source": [
    "println(Set(names))\n",
    "println(Set(ints)) \n",
    "println(sort(unique(names)))                            #Sets do not have a method to for sorting.\n",
    "println(sort(unique(ints)))                             #Sort the unique elements of arrays."
   ]
  },
  {
   "cell_type": "code",
   "execution_count": 77,
   "metadata": {},
   "outputs": [
    {
     "data": {
      "text/plain": [
       "3×7 BitArray{2}:\n",
       " false  false  false  false   true  false  false\n",
       " false  false  false   true  false  false  false\n",
       "  true  false  false  false  false  false   true"
      ]
     },
     "execution_count": 77,
     "metadata": {},
     "output_type": "execute_result"
    }
   ],
   "source": [
    "values = [6 0 0 3 2 5 6]\n",
    "test_values = [2,3,6]\n",
    "in.(values, test_values)"
   ]
  },
  {
   "cell_type": "code",
   "execution_count": 78,
   "metadata": {},
   "outputs": [
    {
     "data": {
      "text/plain": [
       "1×7 Array{Bool,2}:\n",
       " true  false  false  true  true  false  true"
      ]
     },
     "execution_count": 78,
     "metadata": {},
     "output_type": "execute_result"
    }
   ],
   "source": [
    "[x in test_values ? true : false for x in values ]       #Totally kludge-y elementwise comparison."
   ]
  },
  {
   "cell_type": "markdown",
   "metadata": {},
   "source": [
    "## File Input and Output with Arrays"
   ]
  },
  {
   "cell_type": "code",
   "execution_count": 79,
   "metadata": {},
   "outputs": [
    {
     "data": {
      "text/plain": [
       "3×3×3 Array{Float64,3}:\n",
       "[:, :, 1] =\n",
       " 0.279526  0.441126  0.169813\n",
       " 0.545138  0.07582   0.175608\n",
       " 0.275641  0.332973  0.10732 \n",
       "\n",
       "[:, :, 2] =\n",
       " 0.60967    0.431639  0.136855\n",
       " 0.592298   0.105742  0.22132 \n",
       " 0.0524897  0.548804  0.345377\n",
       "\n",
       "[:, :, 3] =\n",
       " 0.96519    0.646828  0.105582\n",
       " 0.361424   0.77063   0.200787\n",
       " 0.0700002  0.455324  0.180787"
      ]
     },
     "execution_count": 79,
     "metadata": {},
     "output_type": "execute_result"
    }
   ],
   "source": [
    "#using Pkg                                        #Julia Data. Saves variables in a native julia format.\n",
    "#Pkg.add(\"JLD\")                                   #Multiple variables are saved to a single files.  \n",
    "# Documentation at https://github.com/JuliaIO/JLD.jl/blob/master/doc/jld.md\n",
    "using JLD\n",
    "r1 = rand(3, 3, 3)\n",
    "r2 = rand(3, 3, 3)\n",
    "r3 = rand(3, 3, 3)\n",
    "r4 = rand(3, 3, 3)\n",
    "save(\"data.jld\", \"data1\", r1,\"data2\", r2,\"data3\", r3,\"data4\", r4)\n",
    "load(\"data.jld\")[\"data1\"]"
   ]
  },
  {
   "cell_type": "code",
   "execution_count": 80,
   "metadata": {},
   "outputs": [
    {
     "data": {
      "text/plain": [
       "3×3×3 Array{Float64,3}:\n",
       "[:, :, 1] =\n",
       " 0.355432  0.39115   0.883398 \n",
       " 0.259908  0.577995  0.0798932\n",
       " 0.797049  0.67353   0.0757838\n",
       "\n",
       "[:, :, 2] =\n",
       " 0.565145  0.597462  0.00647632\n",
       " 0.137463  0.481404  0.931825  \n",
       " 0.860257  0.302036  0.699433  \n",
       "\n",
       "[:, :, 3] =\n",
       " 0.703354  0.861634   0.141857\n",
       " 0.713022  0.0861592  0.873146\n",
       " 0.762677  0.0408633  0.138948"
      ]
     },
     "execution_count": 80,
     "metadata": {},
     "output_type": "execute_result"
    }
   ],
   "source": [
    "z = load(\"data.jld\", \"data3\")"
   ]
  },
  {
   "cell_type": "code",
   "execution_count": 81,
   "metadata": {},
   "outputs": [
    {
     "data": {
      "text/plain": [
       "3×3×3 Array{Float64,3}:\n",
       "[:, :, 1] =\n",
       " 0.355432  0.39115   0.883398 \n",
       " 0.259908  0.577995  0.0798932\n",
       " 0.797049  0.67353   0.0757838\n",
       "\n",
       "[:, :, 2] =\n",
       " 0.565145  0.597462  0.00647632\n",
       " 0.137463  0.481404  0.931825  \n",
       " 0.860257  0.302036  0.699433  \n",
       "\n",
       "[:, :, 3] =\n",
       " 0.703354  0.861634   0.141857\n",
       " 0.713022  0.0861592  0.873146\n",
       " 0.762677  0.0408633  0.138948"
      ]
     },
     "execution_count": 81,
     "metadata": {},
     "output_type": "execute_result"
    }
   ],
   "source": [
    "load(\"data.jld\")[\"data3\"]"
   ]
  },
  {
   "cell_type": "code",
   "execution_count": 82,
   "metadata": {},
   "outputs": [],
   "source": [
    "rm(\"data.jld\")"
   ]
  },
  {
   "cell_type": "markdown",
   "metadata": {},
   "source": [
    "## Linear Algebra"
   ]
  },
  {
   "cell_type": "code",
   "execution_count": 83,
   "metadata": {},
   "outputs": [
    {
     "name": "stdout",
     "output_type": "stream",
     "text": [
      "Array{Float64,1}[[1.0, 2.0, 3.0], [4.0, 5.0, 6.0]]\n",
      "Array{Int64,1}[[6, 23], [-1, 7], [8, 9]]\n"
     ]
    }
   ],
   "source": [
    "x = [[1., 2., 3.], [4., 5., 6.]]\n",
    "y = [[6, 23], [-1, 7], [8, 9]]\n",
    "println(x)\n",
    "println(y)"
   ]
  },
  {
   "cell_type": "code",
   "execution_count": 84,
   "metadata": {},
   "outputs": [
    {
     "data": {
      "text/plain": [
       "91.0"
      ]
     },
     "execution_count": 84,
     "metadata": {},
     "output_type": "execute_result"
    }
   ],
   "source": [
    "dot(x, (transpose(x)))"
   ]
  },
  {
   "cell_type": "code",
   "execution_count": 85,
   "metadata": {},
   "outputs": [
    {
     "ename": "DimensionMismatch",
     "evalue": "DimensionMismatch(\"cross product is only defined for vectors of length 3\")",
     "output_type": "error",
     "traceback": [
      "DimensionMismatch(\"cross product is only defined for vectors of length 3\")",
      "",
      "Stacktrace:",
      " [1] cross(::Array{Array{Int64,1},1}, ::Array{Array{Float64,1},1}) at /Users/osx/buildbot/slave/package_osx64/build/usr/share/julia/stdlib/v1.1/LinearAlgebra/src/generic.jl:135",
      " [2] top-level scope at In[85]:1"
     ]
    }
   ],
   "source": [
    "cross(y, x)"
   ]
  },
  {
   "cell_type": "code",
   "execution_count": 86,
   "metadata": {},
   "outputs": [
    {
     "data": {
      "text/plain": [
       "3-element Array{Array{Int64,1},1}:\n",
       " [6, 23]\n",
       " [-1, 7]\n",
       " [8, 9] "
      ]
     },
     "execution_count": 86,
     "metadata": {},
     "output_type": "execute_result"
    }
   ],
   "source": [
    "y"
   ]
  },
  {
   "cell_type": "markdown",
   "metadata": {},
   "source": [
    "## Pseudorandom Number Generation"
   ]
  },
  {
   "cell_type": "code",
   "execution_count": 87,
   "metadata": {},
   "outputs": [
    {
     "data": {
      "text/plain": [
       "4×4 Array{Float64,2}:\n",
       "  0.245104  -0.134998   -0.61485    1.84399 \n",
       " -0.492772   2.08243    -1.70679    0.569062\n",
       "  0.653927   0.0144414  -1.5167    -1.82952 \n",
       " -0.456443  -0.0298314   0.119214   0.358335"
      ]
     },
     "execution_count": 87,
     "metadata": {},
     "output_type": "execute_result"
    }
   ],
   "source": [
    "samples = randn((4, 4))\n",
    "samples"
   ]
  },
  {
   "cell_type": "markdown",
   "metadata": {},
   "source": [
    "## Example: Random Walks"
   ]
  },
  {
   "cell_type": "code",
   "execution_count": 88,
   "metadata": {},
   "outputs": [
    {
     "data": {
      "image/png": "[encoded data removed]"
     },
     "execution_count": 88,
     "metadata": {},
     "output_type": "execute_result"
    }
   ],
   "source": [
    "sample = rand([-1,1], 1000)\n",
    "walk = cumsum(sample )\n",
    "plot(walk)"
   ]
  },
  {
   "cell_type": "code",
   "execution_count": 89,
   "metadata": {},
   "outputs": [
    {
     "name": "stdout",
     "output_type": "stream",
     "text": [
      "36\n",
      "-17\n"
     ]
    }
   ],
   "source": [
    "println(maximum(walk))\n",
    "println(minimum(walk))"
   ]
  },
  {
   "cell_type": "code",
   "execution_count": 90,
   "metadata": {},
   "outputs": [
    {
     "data": {
      "text/plain": [
       "718"
      ]
     },
     "execution_count": 90,
     "metadata": {},
     "output_type": "execute_result"
    }
   ],
   "source": [
    "argmax(abs.(walk))"
   ]
  },
  {
   "cell_type": "code",
   "execution_count": 91,
   "metadata": {},
   "outputs": [
    {
     "data": {
      "text/plain": [
       "36"
      ]
     },
     "execution_count": 91,
     "metadata": {},
     "output_type": "execute_result"
    }
   ],
   "source": [
    "findfirst(isequal(10), abs.(walk))"
   ]
  },
  {
   "cell_type": "markdown",
   "metadata": {},
   "source": [
    "### Simulating Many Random Walks at Once"
   ]
  },
  {
   "cell_type": "code",
   "execution_count": 92,
   "metadata": {},
   "outputs": [
    {
     "name": "stdout",
     "output_type": "stream",
     "text": [
      "Number that reach 30 is 3407\n",
      "Mean steps to reach 30 is 503.9589081303199\n"
     ]
    }
   ],
   "source": [
    "#sample = rand([-1,1], 1000)\n",
    "samples = [rand([-1,1],(1000)) for walk in 1:5000]\n",
    "walks = [cumsum(s) for s in samples]\n",
    "GT30 = filter(x -> (maximum(abs.(x))>=30), walks)\n",
    "println(\"Number that reach 30 is \", size(GT30,1))\n",
    "crossing_times = [findfirst(isequal(30), abs.(x)) for x in GT30]\n",
    "println(\"Mean steps to reach 30 is \", mean(crossing_times))"
   ]
  },
  {
   "cell_type": "code",
   "execution_count": null,
   "metadata": {},
   "outputs": [],
   "source": []
  }
 ],
 "metadata": {
  "kernelspec": {
   "display_name": "Julia 1.1.0",
   "language": "julia",
   "name": "julia-1.1"
  },
  "language_info": {
   "file_extension": ".jl",
   "mimetype": "application/julia",
   "name": "julia",
   "version": "1.1.0"
  }
 },
 "nbformat": 4,
 "nbformat_minor": 2
}
