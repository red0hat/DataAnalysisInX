{
 "cells": [
  {
   "cell_type": "code",
   "execution_count": 1,
   "metadata": {},
   "outputs": [
    {
     "data": {
      "text/html": [
       "<ol class=list-inline>\n",
       "\t<li>-1.68978622928262</li>\n",
       "\t<li>0.261817978695035</li>\n",
       "\t<li>1.47414943017066</li>\n",
       "\t<li>1.22658082749695</li>\n",
       "\t<li>0.310239555314183</li>\n",
       "\t<li>1.62527897860855</li>\n",
       "</ol>\n"
      ],
      "text/latex": [
       "\\begin{enumerate*}\n",
       "\\item -1.68978622928262\n",
       "\\item 0.261817978695035\n",
       "\\item 1.47414943017066\n",
       "\\item 1.22658082749695\n",
       "\\item 0.310239555314183\n",
       "\\item 1.62527897860855\n",
       "\\end{enumerate*}\n"
      ],
      "text/markdown": [
       "1. -1.68978622928262\n",
       "2. 0.261817978695035\n",
       "3. 1.47414943017066\n",
       "4. 1.22658082749695\n",
       "5. 0.310239555314183\n",
       "6. 1.62527897860855\n",
       "\n",
       "\n"
      ],
      "text/plain": [
       "[1] -1.6897862  0.2618180  1.4741494  1.2265808  0.3102396  1.6252790"
      ]
     },
     "metadata": {},
     "output_type": "display_data"
    }
   ],
   "source": [
    "data <- runif(6,min=-2,max=2) #random uniform distribution\n",
    "data"
   ]
  },
  {
   "cell_type": "code",
   "execution_count": 2,
   "metadata": {},
   "outputs": [
    {
     "data": {
      "text/html": [
       "<ol class=list-inline>\n",
       "\t<li>-16.8978622928262</li>\n",
       "\t<li>2.61817978695035</li>\n",
       "\t<li>14.7414943017066</li>\n",
       "\t<li>12.2658082749695</li>\n",
       "\t<li>3.10239555314183</li>\n",
       "\t<li>16.2527897860855</li>\n",
       "</ol>\n"
      ],
      "text/latex": [
       "\\begin{enumerate*}\n",
       "\\item -16.8978622928262\n",
       "\\item 2.61817978695035\n",
       "\\item 14.7414943017066\n",
       "\\item 12.2658082749695\n",
       "\\item 3.10239555314183\n",
       "\\item 16.2527897860855\n",
       "\\end{enumerate*}\n"
      ],
      "text/markdown": [
       "1. -16.8978622928262\n",
       "2. 2.61817978695035\n",
       "3. 14.7414943017066\n",
       "4. 12.2658082749695\n",
       "5. 3.10239555314183\n",
       "6. 16.2527897860855\n",
       "\n",
       "\n"
      ],
      "text/plain": [
       "[1] -16.897862   2.618180  14.741494  12.265808   3.102396  16.252790"
      ]
     },
     "metadata": {},
     "output_type": "display_data"
    },
    {
     "data": {
      "text/html": [
       "<ol class=list-inline>\n",
       "\t<li>-3.37957245856524</li>\n",
       "\t<li>0.52363595739007</li>\n",
       "\t<li>2.94829886034131</li>\n",
       "\t<li>2.45316165499389</li>\n",
       "\t<li>0.620479110628366</li>\n",
       "\t<li>3.2505579572171</li>\n",
       "</ol>\n"
      ],
      "text/latex": [
       "\\begin{enumerate*}\n",
       "\\item -3.37957245856524\n",
       "\\item 0.52363595739007\n",
       "\\item 2.94829886034131\n",
       "\\item 2.45316165499389\n",
       "\\item 0.620479110628366\n",
       "\\item 3.2505579572171\n",
       "\\end{enumerate*}\n"
      ],
      "text/markdown": [
       "1. -3.37957245856524\n",
       "2. 0.52363595739007\n",
       "3. 2.94829886034131\n",
       "4. 2.45316165499389\n",
       "5. 0.620479110628366\n",
       "6. 3.2505579572171\n",
       "\n",
       "\n"
      ],
      "text/plain": [
       "[1] -3.3795725  0.5236360  2.9482989  2.4531617  0.6204791  3.2505580"
      ]
     },
     "metadata": {},
     "output_type": "display_data"
    }
   ],
   "source": [
    "data*10\n",
    "data + data"
   ]
  },
  {
   "cell_type": "markdown",
   "metadata": {},
   "source": [
    "## Creating arrays"
   ]
  },
  {
   "cell_type": "code",
   "execution_count": 3,
   "metadata": {},
   "outputs": [
    {
     "data": {
      "text/html": [
       "<ol class=list-inline>\n",
       "\t<li>4</li>\n",
       "\t<li>7.5</li>\n",
       "\t<li>8</li>\n",
       "\t<li>0</li>\n",
       "\t<li>1</li>\n",
       "</ol>\n"
      ],
      "text/latex": [
       "\\begin{enumerate*}\n",
       "\\item 4\n",
       "\\item 7.5\n",
       "\\item 8\n",
       "\\item 0\n",
       "\\item 1\n",
       "\\end{enumerate*}\n"
      ],
      "text/markdown": [
       "1. 4\n",
       "2. 7.5\n",
       "3. 8\n",
       "4. 0\n",
       "5. 1\n",
       "\n",
       "\n"
      ],
      "text/plain": [
       "[1] 4.0 7.5 8.0 0.0 1.0"
      ]
     },
     "metadata": {},
     "output_type": "display_data"
    }
   ],
   "source": [
    "data1 = c(4, 7.5, 8, 0, 1)\n",
    "data1"
   ]
  },
  {
   "cell_type": "code",
   "execution_count": 4,
   "metadata": {},
   "outputs": [
    {
     "data": {
      "text/html": [
       "<table>\n",
       "<tbody>\n",
       "\t<tr><td>1</td><td>3</td><td>5</td><td>7</td></tr>\n",
       "\t<tr><td>2</td><td>4</td><td>6</td><td>8</td></tr>\n",
       "</tbody>\n",
       "</table>\n"
      ],
      "text/latex": [
       "\\begin{tabular}{llll}\n",
       "\t 1 & 3 & 5 & 7\\\\\n",
       "\t 2 & 4 & 6 & 8\\\\\n",
       "\\end{tabular}\n"
      ],
      "text/markdown": [
       "\n",
       "| 1 | 3 | 5 | 7 |\n",
       "| 2 | 4 | 6 | 8 |\n",
       "\n"
      ],
      "text/plain": [
       "     [,1] [,2] [,3] [,4]\n",
       "[1,] 1    3    5    7   \n",
       "[2,] 2    4    6    8   "
      ]
     },
     "metadata": {},
     "output_type": "display_data"
    }
   ],
   "source": [
    "#2 dimensional array\n",
    "data_array = c(1, 2, 3, 4, 5, 6,7, 8)\n",
    "data2 = matrix(data = data_array,nrow=2, ncol = 4)\n",
    "data2"
   ]
  },
  {
   "cell_type": "code",
   "execution_count": 5,
   "metadata": {},
   "outputs": [
    {
     "data": {
      "text/html": [
       "<ol class=list-inline>\n",
       "\t<li>1</li>\n",
       "\t<li>2</li>\n",
       "\t<li>3</li>\n",
       "\t<li>4</li>\n",
       "\t<li>5</li>\n",
       "\t<li>6</li>\n",
       "\t<li>7</li>\n",
       "\t<li>8</li>\n",
       "</ol>\n"
      ],
      "text/latex": [
       "\\begin{enumerate*}\n",
       "\\item 1\n",
       "\\item 2\n",
       "\\item 3\n",
       "\\item 4\n",
       "\\item 5\n",
       "\\item 6\n",
       "\\item 7\n",
       "\\item 8\n",
       "\\end{enumerate*}\n"
      ],
      "text/markdown": [
       "1. 1\n",
       "2. 2\n",
       "3. 3\n",
       "4. 4\n",
       "5. 5\n",
       "6. 6\n",
       "7. 7\n",
       "8. 8\n",
       "\n",
       "\n"
      ],
      "text/plain": [
       "[1] 1 2 3 4 5 6 7 8"
      ]
     },
     "metadata": {},
     "output_type": "display_data"
    }
   ],
   "source": [
    "data3 = c( 1:4, 5:8)\n",
    "data3"
   ]
  },
  {
   "cell_type": "code",
   "execution_count": 19,
   "metadata": {},
   "outputs": [
    {
     "data": {
      "text/html": [
       "'matrix'"
      ],
      "text/latex": [
       "'matrix'"
      ],
      "text/markdown": [
       "'matrix'"
      ],
      "text/plain": [
       "[1] \"matrix\""
      ]
     },
     "metadata": {},
     "output_type": "display_data"
    }
   ],
   "source": [
    "class(data2)"
   ]
  },
  {
   "cell_type": "code",
   "execution_count": null,
   "metadata": {},
   "outputs": [],
   "source": [
    "data2."
   ]
  }
 ],
 "metadata": {
  "kernelspec": {
   "display_name": "R",
   "language": "R",
   "name": "ir"
  },
  "language_info": {
   "codemirror_mode": "r",
   "file_extension": ".r",
   "mimetype": "text/x-r-source",
   "name": "R",
   "pygments_lexer": "r",
   "version": "3.5.1"
  }
 },
 "nbformat": 4,
 "nbformat_minor": 2
}
