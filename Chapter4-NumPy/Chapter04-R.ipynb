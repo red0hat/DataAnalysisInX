{
 "cells": [
  {
   "cell_type": "code",
   "execution_count": 3,
   "metadata": {},
   "outputs": [
    {
     "data": {
      "text/html": [
       "<ol class=list-inline>\n",
       "\t<li>1.29396662209183</li>\n",
       "\t<li>-0.644610403105617</li>\n",
       "\t<li>-0.569407105445862</li>\n",
       "\t<li>0.357802759855986</li>\n",
       "\t<li>-1.23216958343983</li>\n",
       "\t<li>-1.87408223561943</li>\n",
       "</ol>\n"
      ],
      "text/latex": [
       "\\begin{enumerate*}\n",
       "\\item 1.29396662209183\n",
       "\\item -0.644610403105617\n",
       "\\item -0.569407105445862\n",
       "\\item 0.357802759855986\n",
       "\\item -1.23216958343983\n",
       "\\item -1.87408223561943\n",
       "\\end{enumerate*}\n"
      ],
      "text/markdown": [
       "1. 1.29396662209183\n",
       "2. -0.644610403105617\n",
       "3. -0.569407105445862\n",
       "4. 0.357802759855986\n",
       "5. -1.23216958343983\n",
       "6. -1.87408223561943\n",
       "\n",
       "\n"
      ],
      "text/plain": [
       "[1]  1.2939666 -0.6446104 -0.5694071  0.3578028 -1.2321696 -1.8740822"
      ]
     },
     "metadata": {},
     "output_type": "display_data"
    }
   ],
   "source": [
    "data <- runif(6,min=-2,max=2) #random unifordistribution\n",
    "data"
   ]
  },
  {
   "cell_type": "code",
   "execution_count": 5,
   "metadata": {},
   "outputs": [
    {
     "data": {
      "text/html": [
       "<ol class=list-inline>\n",
       "\t<li>12.9396662209183</li>\n",
       "\t<li>-6.44610403105617</li>\n",
       "\t<li>-5.69407105445862</li>\n",
       "\t<li>3.57802759855986</li>\n",
       "\t<li>-12.3216958343983</li>\n",
       "\t<li>-18.7408223561943</li>\n",
       "</ol>\n"
      ],
      "text/latex": [
       "\\begin{enumerate*}\n",
       "\\item 12.9396662209183\n",
       "\\item -6.44610403105617\n",
       "\\item -5.69407105445862\n",
       "\\item 3.57802759855986\n",
       "\\item -12.3216958343983\n",
       "\\item -18.7408223561943\n",
       "\\end{enumerate*}\n"
      ],
      "text/markdown": [
       "1. 12.9396662209183\n",
       "2. -6.44610403105617\n",
       "3. -5.69407105445862\n",
       "4. 3.57802759855986\n",
       "5. -12.3216958343983\n",
       "6. -18.7408223561943\n",
       "\n",
       "\n"
      ],
      "text/plain": [
       "[1]  12.939666  -6.446104  -5.694071   3.578028 -12.321696 -18.740822"
      ]
     },
     "metadata": {},
     "output_type": "display_data"
    },
    {
     "data": {
      "text/html": [
       "<ol class=list-inline>\n",
       "\t<li>2.58793324418366</li>\n",
       "\t<li>-1.28922080621123</li>\n",
       "\t<li>-1.13881421089172</li>\n",
       "\t<li>0.715605519711971</li>\n",
       "\t<li>-2.46433916687965</li>\n",
       "\t<li>-3.74816447123885</li>\n",
       "</ol>\n"
      ],
      "text/latex": [
       "\\begin{enumerate*}\n",
       "\\item 2.58793324418366\n",
       "\\item -1.28922080621123\n",
       "\\item -1.13881421089172\n",
       "\\item 0.715605519711971\n",
       "\\item -2.46433916687965\n",
       "\\item -3.74816447123885\n",
       "\\end{enumerate*}\n"
      ],
      "text/markdown": [
       "1. 2.58793324418366\n",
       "2. -1.28922080621123\n",
       "3. -1.13881421089172\n",
       "4. 0.715605519711971\n",
       "5. -2.46433916687965\n",
       "6. -3.74816447123885\n",
       "\n",
       "\n"
      ],
      "text/plain": [
       "[1]  2.5879332 -1.2892208 -1.1388142  0.7156055 -2.4643392 -3.7481645"
      ]
     },
     "metadata": {},
     "output_type": "display_data"
    }
   ],
   "source": [
    "data*10\n",
    "data + data"
   ]
  },
  {
   "cell_type": "markdown",
   "metadata": {},
   "source": [
    "## Creating arrays"
   ]
  },
  {
   "cell_type": "code",
   "execution_count": 10,
   "metadata": {},
   "outputs": [
    {
     "data": {
      "text/html": [
       "<ol class=list-inline>\n",
       "\t<li>4</li>\n",
       "\t<li>7.5</li>\n",
       "\t<li>8</li>\n",
       "\t<li>0</li>\n",
       "\t<li>1</li>\n",
       "</ol>\n"
      ],
      "text/latex": [
       "\\begin{enumerate*}\n",
       "\\item 4\n",
       "\\item 7.5\n",
       "\\item 8\n",
       "\\item 0\n",
       "\\item 1\n",
       "\\end{enumerate*}\n"
      ],
      "text/markdown": [
       "1. 4\n",
       "2. 7.5\n",
       "3. 8\n",
       "4. 0\n",
       "5. 1\n",
       "\n",
       "\n"
      ],
      "text/plain": [
       "[1] 4.0 7.5 8.0 0.0 1.0"
      ]
     },
     "metadata": {},
     "output_type": "display_data"
    }
   ],
   "source": [
    "data1 = c(4, 7.5, 8, 0, 1)\n",
    "data1"
   ]
  },
  {
   "cell_type": "code",
   "execution_count": 14,
   "metadata": {},
   "outputs": [
    {
     "data": {
      "text/html": [
       "<table>\n",
       "<tbody>\n",
       "\t<tr><td>1</td><td>3</td><td>5</td><td>7</td></tr>\n",
       "\t<tr><td>2</td><td>4</td><td>6</td><td>8</td></tr>\n",
       "</tbody>\n",
       "</table>\n"
      ],
      "text/latex": [
       "\\begin{tabular}{llll}\n",
       "\t 1 & 3 & 5 & 7\\\\\n",
       "\t 2 & 4 & 6 & 8\\\\\n",
       "\\end{tabular}\n"
      ],
      "text/markdown": [
       "\n",
       "| 1 | 3 | 5 | 7 |\n",
       "| 2 | 4 | 6 | 8 |\n",
       "\n"
      ],
      "text/plain": [
       "     [,1] [,2] [,3] [,4]\n",
       "[1,] 1    3    5    7   \n",
       "[2,] 2    4    6    8   "
      ]
     },
     "metadata": {},
     "output_type": "display_data"
    }
   ],
   "source": [
    "#2 dimensional array\n",
    "data_array = c(1, 2, 3, 4, 5, 6,7, 8)\n",
    "data2 = matrix(data = data_array,nrow=2, ncol = 4)\n",
    "data2"
   ]
  },
  {
   "cell_type": "code",
   "execution_count": 18,
   "metadata": {},
   "outputs": [
    {
     "data": {
      "text/html": [
       "<ol class=list-inline>\n",
       "\t<li>1</li>\n",
       "\t<li>2</li>\n",
       "\t<li>3</li>\n",
       "\t<li>4</li>\n",
       "\t<li>5</li>\n",
       "\t<li>6</li>\n",
       "\t<li>7</li>\n",
       "\t<li>8</li>\n",
       "</ol>\n"
      ],
      "text/latex": [
       "\\begin{enumerate*}\n",
       "\\item 1\n",
       "\\item 2\n",
       "\\item 3\n",
       "\\item 4\n",
       "\\item 5\n",
       "\\item 6\n",
       "\\item 7\n",
       "\\item 8\n",
       "\\end{enumerate*}\n"
      ],
      "text/markdown": [
       "1. 1\n",
       "2. 2\n",
       "3. 3\n",
       "4. 4\n",
       "5. 5\n",
       "6. 6\n",
       "7. 7\n",
       "8. 8\n",
       "\n",
       "\n"
      ],
      "text/plain": [
       "[1] 1 2 3 4 5 6 7 8"
      ]
     },
     "metadata": {},
     "output_type": "display_data"
    }
   ],
   "source": [
    "data3 = c( 1:4, 5:8)\n",
    "data3"
   ]
  },
  {
   "cell_type": "code",
   "execution_count": 19,
   "metadata": {},
   "outputs": [
    {
     "data": {
      "text/html": [
       "'matrix'"
      ],
      "text/latex": [
       "'matrix'"
      ],
      "text/markdown": [
       "'matrix'"
      ],
      "text/plain": [
       "[1] \"matrix\""
      ]
     },
     "metadata": {},
     "output_type": "display_data"
    }
   ],
   "source": [
    "class(data2)"
   ]
  },
  {
   "cell_type": "code",
   "execution_count": null,
   "metadata": {},
   "outputs": [],
   "source": [
    "data2."
   ]
  }
 ],
 "metadata": {
  "kernelspec": {
   "display_name": "R",
   "language": "R",
   "name": "ir"
  },
  "language_info": {
   "codemirror_mode": "r",
   "file_extension": ".r",
   "mimetype": "text/x-r-source",
   "name": "R",
   "pygments_lexer": "r",
   "version": "3.5.1"
  }
 },
 "nbformat": 4,
 "nbformat_minor": 2
}
